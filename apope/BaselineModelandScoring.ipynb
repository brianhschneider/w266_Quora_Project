{
 "cells": [
  {
   "cell_type": "markdown",
   "metadata": {},
   "source": [
    "Baseline Question Comparison Model\n",
    "\n",
    "and\n",
    "\n",
    "Scoring of Output"
   ]
  },
  {
   "cell_type": "code",
   "execution_count": 1,
   "metadata": {
    "collapsed": false
   },
   "outputs": [],
   "source": [
    "%matplotlib inline\n",
    "\n",
    "\n",
    "import nltk            # natural language tool kit\n",
    "import numpy as np     # support for large data structures\n",
    "import pandas as pd    # data structure support\n",
    "import string          # various string functions\n",
    "import difflib         # classes and functions for comparing sequences\n",
    "import utils           # word processing functions and distance functions\n",
    "\n",
    "from sklearn.metrics import log_loss    # used in measurement / scoring\n",
    "from sklearn.metrics import classification_report   # among other things, provides accuracy and f1"
   ]
  },
  {
   "cell_type": "code",
   "execution_count": 9,
   "metadata": {
    "collapsed": false
   },
   "outputs": [
    {
     "data": {
      "text/html": [
       "<div>\n",
       "<table border=\"1\" class=\"dataframe\">\n",
       "  <thead>\n",
       "    <tr style=\"text-align: right;\">\n",
       "      <th></th>\n",
       "      <th>id</th>\n",
       "      <th>qid1</th>\n",
       "      <th>qid2</th>\n",
       "      <th>question1</th>\n",
       "      <th>question2</th>\n",
       "      <th>is_duplicate</th>\n",
       "    </tr>\n",
       "  </thead>\n",
       "  <tbody>\n",
       "    <tr>\n",
       "      <th>0</th>\n",
       "      <td>0</td>\n",
       "      <td>1</td>\n",
       "      <td>2</td>\n",
       "      <td>What is the step by step guide to invest in sh...</td>\n",
       "      <td>What is the step by step guide to invest in sh...</td>\n",
       "      <td>0</td>\n",
       "    </tr>\n",
       "    <tr>\n",
       "      <th>1</th>\n",
       "      <td>1</td>\n",
       "      <td>3</td>\n",
       "      <td>4</td>\n",
       "      <td>What is the story of Kohinoor (Koh-i-Noor) Dia...</td>\n",
       "      <td>What would happen if the Indian government sto...</td>\n",
       "      <td>0</td>\n",
       "    </tr>\n",
       "    <tr>\n",
       "      <th>2</th>\n",
       "      <td>2</td>\n",
       "      <td>5</td>\n",
       "      <td>6</td>\n",
       "      <td>How can I increase the speed of my internet co...</td>\n",
       "      <td>How can Internet speed be increased by hacking...</td>\n",
       "      <td>0</td>\n",
       "    </tr>\n",
       "    <tr>\n",
       "      <th>3</th>\n",
       "      <td>3</td>\n",
       "      <td>7</td>\n",
       "      <td>8</td>\n",
       "      <td>Why am I mentally very lonely? How can I solve...</td>\n",
       "      <td>Find the remainder when [math]23^{24}[/math] i...</td>\n",
       "      <td>0</td>\n",
       "    </tr>\n",
       "    <tr>\n",
       "      <th>4</th>\n",
       "      <td>4</td>\n",
       "      <td>9</td>\n",
       "      <td>10</td>\n",
       "      <td>Which one dissolve in water quikly sugar, salt...</td>\n",
       "      <td>Which fish would survive in salt water?</td>\n",
       "      <td>0</td>\n",
       "    </tr>\n",
       "  </tbody>\n",
       "</table>\n",
       "</div>"
      ],
      "text/plain": [
       "   id  qid1  qid2                                          question1  \\\n",
       "0   0     1     2  What is the step by step guide to invest in sh...   \n",
       "1   1     3     4  What is the story of Kohinoor (Koh-i-Noor) Dia...   \n",
       "2   2     5     6  How can I increase the speed of my internet co...   \n",
       "3   3     7     8  Why am I mentally very lonely? How can I solve...   \n",
       "4   4     9    10  Which one dissolve in water quikly sugar, salt...   \n",
       "\n",
       "                                           question2  is_duplicate  \n",
       "0  What is the step by step guide to invest in sh...             0  \n",
       "1  What would happen if the Indian government sto...             0  \n",
       "2  How can Internet speed be increased by hacking...             0  \n",
       "3  Find the remainder when [math]23^{24}[/math] i...             0  \n",
       "4            Which fish would survive in salt water?             0  "
      ]
     },
     "execution_count": 9,
     "metadata": {},
     "output_type": "execute_result"
    }
   ],
   "source": [
    "# import train and test data\n",
    "\n",
    "# Generate training data dataframe\n",
    "train = pd.read_csv('Data/train.csv') #index_col=0\n",
    "\n",
    "train.head()"
   ]
  },
  {
   "cell_type": "code",
   "execution_count": 10,
   "metadata": {
    "collapsed": false
   },
   "outputs": [
    {
     "name": "stdout",
     "output_type": "stream",
     "text": [
      "['how', 'can', 'i', 'increase', 'the', 'speed', 'of', 'my', 'internet', 'connection', 'while', 'using', 'a', 'vpn']\n",
      "['how', 'can', 'internet', 'speed', 'be', 'increased', 'by', 'hacking', 'through', 'dns']\n"
     ]
    }
   ],
   "source": [
    "# testing with 1 id\n",
    "# later can put all into a loop\n",
    "id = 2\n",
    "q1 = train['question1'][id]\n",
    "q2 = train['question2'][id]\n",
    "\n",
    "# print(q1)\n",
    "# print(q2)\n",
    "\n",
    "# remove punctuation  (as our baseline model will focus on the words themselves)\n",
    "# one addition could be to change everything to lowercase, too (likely will test impact in results)\n",
    "\n",
    "# q1 = q1.translate(None, string.punctuation)\n",
    "q1 = q1.translate(None, string.punctuation).lower()\n",
    "# q2 = q2.translate(None, string.punctuation)\n",
    "q2 = q2.translate(None, string.punctuation).lower()\n",
    "\n",
    "\n",
    "# split sentences (multiple sentences) into list of words\n",
    "q1words = q1.split()\n",
    "q2words = q2.split()\n",
    "\n",
    "\n",
    "print(q1words)\n",
    "print(q2words)"
   ]
  },
  {
   "cell_type": "code",
   "execution_count": 14,
   "metadata": {
    "collapsed": false
   },
   "outputs": [
    {
     "data": {
      "text/plain": [
       "0.25"
      ]
     },
     "execution_count": 14,
     "metadata": {},
     "output_type": "execute_result"
    }
   ],
   "source": [
    "# simple baseline model...compare words in\n",
    "def find_similarity(wl1, wl2):\n",
    "    # send 2 word lists to find matching sequence\n",
    "    sm = difflib.SequenceMatcher(None, wl1,wl2)\n",
    "    sm = sm.ratio()\n",
    "    return sm\n",
    "\n",
    "find_similarity(q1words, q2words)"
   ]
  },
  {
   "cell_type": "code",
   "execution_count": 15,
   "metadata": {
    "collapsed": true
   },
   "outputs": [],
   "source": [
    "# alternate baseline approach- levenstein distance b/t the 2 questions"
   ]
  },
  {
   "cell_type": "code",
   "execution_count": 16,
   "metadata": {
    "collapsed": false
   },
   "outputs": [
    {
     "data": {
      "text/plain": [
       "0.3076923076923077"
      ]
     },
     "execution_count": 16,
     "metadata": {},
     "output_type": "execute_result"
    }
   ],
   "source": [
    "def lv_similarity(str1, str2):\n",
    "    # send 2 strings (questions) to find levenshtien distance, compare to length, and ind similarity\n",
    "    s1len =len(str1)\n",
    "    s2len = len(str2)\n",
    "    distance = utils.levenshtein_explicit(str1, str2)\n",
    "\n",
    "    # print(distance)\n",
    "    # print(s1len)\n",
    "    # print(s2len)\n",
    "\n",
    "    # crude similarity metric using distance plus length of q1 and q2\n",
    "    return (distance / (s1len*1.0 + s2len*1.0))\n",
    "\n",
    "lv_similarity(q1, q2)"
   ]
  },
  {
   "cell_type": "markdown",
   "metadata": {},
   "source": [
    "Using what we have learned above, will apply to all records."
   ]
  },
  {
   "cell_type": "code",
   "execution_count": 17,
   "metadata": {
    "collapsed": false
   },
   "outputs": [],
   "source": [
    "# code below runs through all IDs, comparing Q1 to Q2, storing similarity measurement\n",
    "# runs through loop once, storing both similarity measurements\n",
    "\n",
    "sm_results = []\n",
    "lv_results = []\n",
    "\n",
    "for id in range(0, len(train)):\n",
    "# test with a smaller loop first\n",
    "# for id in range(0, 20):\n",
    "    \n",
    "    # look at questions associated with ID\n",
    "    # also need to convert to a string (in event not all questions are strings)\n",
    "    q1 = str(train['question1'][id])\n",
    "    q2 = str(train['question2'][id])\n",
    "\n",
    "    # print(q1)\n",
    "    # print(q2)\n",
    "\n",
    "    # remove punctuation  (as our baseline model will focus on the words themselves)\n",
    "    # one addition could be to change everything to lowercase, too (likely will test impact in results)\n",
    "\n",
    "    # q1 = q1.translate(None, string.punctuation)\n",
    "    q1 = q1.translate(None, string.punctuation).lower()\n",
    "    # q2 = q2.translate(None, string.punctuation)\n",
    "    q2 = q2.translate(None, string.punctuation).lower()\n",
    "\n",
    "\n",
    "    # split sentences (multiple sentences) into list of words\n",
    "    q1words = q1.split()\n",
    "    q2words = q2.split()\n",
    "    \n",
    "    # calculate similarity (2 ways)\n",
    "    sm_results.append([id, find_similarity(q1words, q2words)])\n",
    "    lv_results.append([id, lv_similarity(q1, q2)])\n",
    "    \n",
    "    "
   ]
  },
  {
   "cell_type": "markdown",
   "metadata": {},
   "source": [
    "Model is quite slow, do to loop through 400,000 records\n",
    "But, it is the baseline, so that is ok.\n"
   ]
  },
  {
   "cell_type": "markdown",
   "metadata": {},
   "source": [
    "Measuring Results:\n",
    "Kaggle uses Log Loss; in this case we have 1 class (duplicate) and we are looking at the probability we are in that class.\n"
   ]
  },
  {
   "cell_type": "code",
   "execution_count": 71,
   "metadata": {
    "collapsed": true
   },
   "outputs": [],
   "source": [
    "actuals = np.array(train['is_duplicate'])\n",
    "n_sm_results = np.array(sm_results)\n",
    "n_lv_results = np.array(lv_results)\n",
    "\n",
    "predictions_sm = n_sm_results[:,1]\n",
    "predictions_lv = n_lv_results[:,1]"
   ]
  },
  {
   "cell_type": "code",
   "execution_count": 72,
   "metadata": {
    "collapsed": true
   },
   "outputs": [],
   "source": [
    "# build a function to run scoring\n",
    "# function takes an array of actuals, predicted values (as percentages, not absolute), and a probability \n",
    "# probability represents value over which over which we assume = 1)\n",
    "# percentages are converted to absolute values (0 or 1) with the function\n",
    "\n",
    "def score(actuals, predictions, probability):\n",
    "    score_sm = log_loss(actuals, predictions)\n",
    "    print ('log loss score is: %3f' %(score_sm))\n",
    "    \n",
    "    n_abs = np.where(predictions > probability, 1, 0)\n",
    "    \n",
    "    total_wrong = np.sum(np.not_equal(actuals, n_abs))\n",
    "    print ('number of incorrect predictions is: %3d' %(total_wrong))\n",
    "    total = len(actuals)\n",
    "    correct = total - total_wrong\n",
    "    print ('total: %3d  correct: %3d  accuracy: %3.2f \\n' %(total, correct, 1.0*correct/total))\n",
    "    print classification_report(actuals, n_abs)\n",
    "\n",
    "    \n",
    "    "
   ]
  },
  {
   "cell_type": "code",
   "execution_count": 73,
   "metadata": {
    "collapsed": false
   },
   "outputs": [
    {
     "name": "stdout",
     "output_type": "stream",
     "text": [
      "log loss score is: 0.637854\n",
      "number of incorrect predictions is: 152512\n",
      "total: 404290  correct: 251778  accuracy: 0.62 \n",
      "\n",
      "             precision    recall  f1-score   support\n",
      "\n",
      "          0       0.64      0.92      0.76    255027\n",
      "          1       0.46      0.11      0.18    149263\n",
      "\n",
      "avg / total       0.57      0.62      0.54    404290\n",
      "\n"
     ]
    }
   ],
   "source": [
    "score(actuals, predictions_sm, .85)"
   ]
  },
  {
   "cell_type": "code",
   "execution_count": 74,
   "metadata": {
    "collapsed": false
   },
   "outputs": [
    {
     "name": "stdout",
     "output_type": "stream",
     "text": [
      "log loss score is: 0.929087\n",
      "number of incorrect predictions is: 149308\n",
      "total: 404290  correct: 254982  accuracy: 0.63 \n",
      "\n",
      "             precision    recall  f1-score   support\n",
      "\n",
      "          0       0.63      1.00      0.77    255027\n",
      "          1       0.00      0.00      0.00    149263\n",
      "\n",
      "avg / total       0.40      0.63      0.49    404290\n",
      "\n"
     ]
    }
   ],
   "source": [
    "score(actuals, predictions_lv, .9)"
   ]
  },
  {
   "cell_type": "markdown",
   "metadata": {},
   "source": [
    "The sequence comparison works much better than levenshtein distance. Among many things, Levenshtein has a lot of false positives.\n",
    "\n",
    "A clear issue with baseline approach is that additional phrases (prepositional, etc) that are attached to the end of a sentence, causing them to be different, are not being counted enough to make the sentences be \"different\".\n",
    "\n",
    "\"How do I make money?\" vs \"How do I make money in the market?\" The last prepositional phrase causes these to be different, but as for the sequence, they are very close."
   ]
  },
  {
   "cell_type": "code",
   "execution_count": null,
   "metadata": {
    "collapsed": true
   },
   "outputs": [],
   "source": [
    "Background Work Below...used to build scoring function"
   ]
  },
  {
   "cell_type": "code",
   "execution_count": 57,
   "metadata": {
    "collapsed": false
   },
   "outputs": [],
   "source": [
    "# exapnd measurements to include accuracy, precision, recall, and f1\n",
    "\n",
    "# to get accuracy and f1, we need to make absolute predictions (0/1)\n",
    "# to do this, we need to assign a % probability over which we consider it a match (.7, .8, .9, etc...)\n",
    "\n",
    "probability = 0.9\n",
    "n_abs_sm = np.where(predictions_sm > probability, 1, 0)\n",
    "n_abs_lv = np.where(n_lv_results[:,1] > probability, 1, 0)"
   ]
  },
  {
   "cell_type": "code",
   "execution_count": 60,
   "metadata": {
    "collapsed": false
   },
   "outputs": [
    {
     "name": "stdout",
     "output_type": "stream",
     "text": [
      "number of incorrect predictions is: 152333\n",
      "total: 404290  correct: 251957  accuracy: 0.62 \n",
      "\n",
      "             precision    recall  f1-score   support\n",
      "\n",
      "          0       0.63      0.96      0.76    255027\n",
      "          1       0.42      0.05      0.09    149263\n",
      "\n",
      "avg / total       0.55      0.62      0.52    404290\n",
      "\n"
     ]
    }
   ],
   "source": [
    "# using sm for testing\n",
    "total_wrong = np.sum(np.not_equal(actuals, n_abs_sm))\n",
    "print ('number of incorrect predictions is: %3d' %(total_wrong))\n",
    "total = len(actuals)\n",
    "correct = total - total_wrong\n",
    "print ('total: %3d  correct: %3d  accuracy: %3.2f \\n' %(total, correct, 1.0*correct/total))\n",
    "\n",
    "print classification_report(actuals, n_abs_sm)"
   ]
  },
  {
   "cell_type": "code",
   "execution_count": 18,
   "metadata": {
    "collapsed": false
   },
   "outputs": [
    {
     "name": "stdout",
     "output_type": "stream",
     "text": [
      "0.637853951947\n",
      "0.929087422303\n"
     ]
    }
   ],
   "source": [
    "# using sk_learn log_loss function\n",
    "score_sm = log_loss(actuals, predictions_sm)\n",
    "score_lv = log_loss(actuals, predictions_lv)\n",
    "\n",
    "print(score_sm)\n",
    "print(score_lv)"
   ]
  }
 ],
 "metadata": {
  "kernelspec": {
   "display_name": "Python 2",
   "language": "python",
   "name": "python2"
  },
  "language_info": {
   "codemirror_mode": {
    "name": "ipython",
    "version": 2
   },
   "file_extension": ".py",
   "mimetype": "text/x-python",
   "name": "python",
   "nbconvert_exporter": "python",
   "pygments_lexer": "ipython2",
   "version": "2.7.13"
  }
 },
 "nbformat": 4,
 "nbformat_minor": 2
}
