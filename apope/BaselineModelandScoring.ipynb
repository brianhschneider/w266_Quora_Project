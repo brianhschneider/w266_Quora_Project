{
 "cells": [
  {
   "cell_type": "markdown",
   "metadata": {},
   "source": [
    "Baseline Question Comparison Model\n",
    "\n",
    "and\n",
    "\n",
    "Scoring of Output"
   ]
  },
  {
   "cell_type": "code",
   "execution_count": 36,
   "metadata": {
    "collapsed": false
   },
   "outputs": [],
   "source": [
    "%matplotlib inline\n",
    "\n",
    "\n",
    "import nltk            # natural language tool kit\n",
    "import numpy as np     # support for large data structures\n",
    "import pandas as pd    # data structure support\n",
    "import string          # various string functions\n",
    "import difflib         # classes and functions for comparing sequences\n",
    "import utils           # word processing functions and distance functions\n",
    "\n",
    "from sklearn.metrics import log_loss    # used in measurement / scoring"
   ]
  },
  {
   "cell_type": "code",
   "execution_count": 2,
   "metadata": {
    "collapsed": false
   },
   "outputs": [
    {
     "data": {
      "text/html": [
       "<div>\n",
       "<table border=\"1\" class=\"dataframe\">\n",
       "  <thead>\n",
       "    <tr style=\"text-align: right;\">\n",
       "      <th></th>\n",
       "      <th>id</th>\n",
       "      <th>qid1</th>\n",
       "      <th>qid2</th>\n",
       "      <th>question1</th>\n",
       "      <th>question2</th>\n",
       "      <th>is_duplicate</th>\n",
       "    </tr>\n",
       "  </thead>\n",
       "  <tbody>\n",
       "    <tr>\n",
       "      <th>0</th>\n",
       "      <td>0</td>\n",
       "      <td>1</td>\n",
       "      <td>2</td>\n",
       "      <td>What is the step by step guide to invest in sh...</td>\n",
       "      <td>What is the step by step guide to invest in sh...</td>\n",
       "      <td>0</td>\n",
       "    </tr>\n",
       "    <tr>\n",
       "      <th>1</th>\n",
       "      <td>1</td>\n",
       "      <td>3</td>\n",
       "      <td>4</td>\n",
       "      <td>What is the story of Kohinoor (Koh-i-Noor) Dia...</td>\n",
       "      <td>What would happen if the Indian government sto...</td>\n",
       "      <td>0</td>\n",
       "    </tr>\n",
       "    <tr>\n",
       "      <th>2</th>\n",
       "      <td>2</td>\n",
       "      <td>5</td>\n",
       "      <td>6</td>\n",
       "      <td>How can I increase the speed of my internet co...</td>\n",
       "      <td>How can Internet speed be increased by hacking...</td>\n",
       "      <td>0</td>\n",
       "    </tr>\n",
       "    <tr>\n",
       "      <th>3</th>\n",
       "      <td>3</td>\n",
       "      <td>7</td>\n",
       "      <td>8</td>\n",
       "      <td>Why am I mentally very lonely? How can I solve...</td>\n",
       "      <td>Find the remainder when [math]23^{24}[/math] i...</td>\n",
       "      <td>0</td>\n",
       "    </tr>\n",
       "    <tr>\n",
       "      <th>4</th>\n",
       "      <td>4</td>\n",
       "      <td>9</td>\n",
       "      <td>10</td>\n",
       "      <td>Which one dissolve in water quikly sugar, salt...</td>\n",
       "      <td>Which fish would survive in salt water?</td>\n",
       "      <td>0</td>\n",
       "    </tr>\n",
       "  </tbody>\n",
       "</table>\n",
       "</div>"
      ],
      "text/plain": [
       "   id  qid1  qid2                                          question1  \\\n",
       "0   0     1     2  What is the step by step guide to invest in sh...   \n",
       "1   1     3     4  What is the story of Kohinoor (Koh-i-Noor) Dia...   \n",
       "2   2     5     6  How can I increase the speed of my internet co...   \n",
       "3   3     7     8  Why am I mentally very lonely? How can I solve...   \n",
       "4   4     9    10  Which one dissolve in water quikly sugar, salt...   \n",
       "\n",
       "                                           question2  is_duplicate  \n",
       "0  What is the step by step guide to invest in sh...             0  \n",
       "1  What would happen if the Indian government sto...             0  \n",
       "2  How can Internet speed be increased by hacking...             0  \n",
       "3  Find the remainder when [math]23^{24}[/math] i...             0  \n",
       "4            Which fish would survive in salt water?             0  "
      ]
     },
     "execution_count": 2,
     "metadata": {},
     "output_type": "execute_result"
    }
   ],
   "source": [
    "# import train and test data\n",
    "\n",
    "# Generate training data dataframe\n",
    "train = pd.read_csv('Data/train.csv') #index_col=0\n",
    "\n",
    "train.head()"
   ]
  },
  {
   "cell_type": "code",
   "execution_count": 19,
   "metadata": {
    "collapsed": false
   },
   "outputs": [
    {
     "name": "stdout",
     "output_type": "stream",
     "text": [
      "['how', 'can', 'i', 'increase', 'the', 'speed', 'of', 'my', 'internet', 'connection', 'while', 'using', 'a', 'vpn']\n",
      "['how', 'can', 'internet', 'speed', 'be', 'increased', 'by', 'hacking', 'through', 'dns']\n"
     ]
    }
   ],
   "source": [
    "# testing with 1 id\n",
    "# later can put all into a loop\n",
    "id = 2\n",
    "q1 = train['question1'][id]\n",
    "q2 = train['question2'][id]\n",
    "\n",
    "# print(q1)\n",
    "# print(q2)\n",
    "\n",
    "# remove punctuation  (as our baseline model will focus on the words themselves)\n",
    "# one addition could be to change everything to lowercase, too (likely will test impact in results)\n",
    "\n",
    "# q1 = q1.translate(None, string.punctuation)\n",
    "q1 = q1.translate(None, string.punctuation).lower()\n",
    "# q2 = q2.translate(None, string.punctuation)\n",
    "q2 = q2.translate(None, string.punctuation).lower()\n",
    "\n",
    "\n",
    "# split sentences (multiple sentences) into list of words\n",
    "q1words = q1.split()\n",
    "q2words = q2.split()\n",
    "\n",
    "\n",
    "print(q1words)\n",
    "print(q2words)"
   ]
  },
  {
   "cell_type": "code",
   "execution_count": 21,
   "metadata": {
    "collapsed": false
   },
   "outputs": [
    {
     "data": {
      "text/plain": [
       "0.25"
      ]
     },
     "execution_count": 21,
     "metadata": {},
     "output_type": "execute_result"
    }
   ],
   "source": [
    "# simple baseline model...compare words in\n",
    "def find_similarity(wl1, wl2):\n",
    "    # send 2 word lists to find matching sequence\n",
    "    sm = difflib.SequenceMatcher(None, wl1,wl2)\n",
    "    sm = sm.ratio()\n",
    "    return sm\n",
    "\n",
    "find_similarity(q1words, q2words)"
   ]
  },
  {
   "cell_type": "code",
   "execution_count": 22,
   "metadata": {
    "collapsed": true
   },
   "outputs": [],
   "source": [
    "# alternate baseline approach- levenstein distance b/t the 2 questions"
   ]
  },
  {
   "cell_type": "code",
   "execution_count": 23,
   "metadata": {
    "collapsed": false
   },
   "outputs": [
    {
     "data": {
      "text/plain": [
       "0.3883495145631068"
      ]
     },
     "execution_count": 23,
     "metadata": {},
     "output_type": "execute_result"
    }
   ],
   "source": [
    "def lv_similarity(str1, str2):\n",
    "    # send 2 strings (questions) to find levenshtien distance, compare to length, and ind similarity\n",
    "    s1len =len(str1)\n",
    "    s2len = len(str2)\n",
    "    distance = utils.levenshtein_explicit(str1, str2)\n",
    "\n",
    "    # print(distance)\n",
    "    # print(s1len)\n",
    "    # print(s2len)\n",
    "\n",
    "    # crude similarity metric using distance plus length of q1 and q2\n",
    "    return (distance / (q1len*1.0 + q2len*1.0))\n",
    "\n",
    "lv_similarity(q1, q2)"
   ]
  },
  {
   "cell_type": "markdown",
   "metadata": {},
   "source": [
    "Using what we have learned above, will apply to all records."
   ]
  },
  {
   "cell_type": "code",
   "execution_count": 35,
   "metadata": {
    "collapsed": false
   },
   "outputs": [],
   "source": [
    "# code below runs through all IDs, comparing Q1 to Q2, storing similarity measurement\n",
    "# runs through loop once, storing both similarity measurements\n",
    "\n",
    "sm_results = []\n",
    "lv_results = []\n",
    "\n",
    "for id in range(0, len(train)):\n",
    "# test with a smaller loop first\n",
    "# for id in range(0, 20):\n",
    "    \n",
    "    # look at questions associated with ID\n",
    "    # also need to convert to a string (in event not all questions are strings)\n",
    "    q1 = str(train['question1'][id])\n",
    "    q2 = str(train['question2'][id])\n",
    "\n",
    "    # print(q1)\n",
    "    # print(q2)\n",
    "\n",
    "    # remove punctuation  (as our baseline model will focus on the words themselves)\n",
    "    # one addition could be to change everything to lowercase, too (likely will test impact in results)\n",
    "\n",
    "    # q1 = q1.translate(None, string.punctuation)\n",
    "    q1 = q1.translate(None, string.punctuation).lower()\n",
    "    # q2 = q2.translate(None, string.punctuation)\n",
    "    q2 = q2.translate(None, string.punctuation).lower()\n",
    "\n",
    "\n",
    "    # split sentences (multiple sentences) into list of words\n",
    "    q1words = q1.split()\n",
    "    q2words = q2.split()\n",
    "    \n",
    "    # calculate similarity (2 ways)\n",
    "    sm_results.append([id, find_similarity(q1words, q2words)])\n",
    "    lv_results.append([id, lv_similarity(q1, q2)])\n",
    "    \n",
    "    "
   ]
  },
  {
   "cell_type": "markdown",
   "metadata": {},
   "source": [
    "Model is quite slow, do to loop through 400,000 records\n",
    "But, it is the baseline, so that is ok.\n"
   ]
  },
  {
   "cell_type": "markdown",
   "metadata": {},
   "source": [
    "Measuring Results:\n",
    "Kaggle uses Log Loss; in this case we have 1 class (duplicate) and we are looking at the probability we are in that class.\n"
   ]
  },
  {
   "cell_type": "code",
   "execution_count": 48,
   "metadata": {
    "collapsed": false
   },
   "outputs": [
    {
     "name": "stdout",
     "output_type": "stream",
     "text": [
      "0.637853951947\n",
      "2.46958295062\n"
     ]
    }
   ],
   "source": [
    "actuals = np.array(train['is_duplicate'])\n",
    "n_sm_results = np.array(sm_results)\n",
    "n_lv_results = np.array(lv_results)\n",
    "\n",
    "predictions_sm = n_sm_results[:,1]\n",
    "predictions_lv = n_lv_results[:,1]\n",
    "\n",
    "# using sk_learn log_loss function\n",
    "score_sm = log_loss(actuals, predictions_sm)\n",
    "score_lv = log_loss(actuals, predictions_lv)\n",
    "\n",
    "print(score_sm)\n",
    "print(score_lv)"
   ]
  },
  {
   "cell_type": "code",
   "execution_count": null,
   "metadata": {
    "collapsed": true
   },
   "outputs": [],
   "source": [
    "# exapnd measurements to include accuracy, precision, recall, and f1"
   ]
  },
  {
   "cell_type": "markdown",
   "metadata": {},
   "source": [
    "The sequence comparison works much better than levenshtein distance. Among many things, Levenshtein has a lot of false positives.\n",
    "\n",
    "A clear issue with baseline approach is that additional phrases (prepositional, etc) that are attached to the end of a sentence, causing them to be different, are not being counted enough to make the sentences be \"different\".\n",
    "\n",
    "\"How do I make money?\" vs \"How do I make money in the market?\" The last prepositional phrase causes these to be different, but as for the sequence, they are very close."
   ]
  }
 ],
 "metadata": {
  "kernelspec": {
   "display_name": "Python 2",
   "language": "python",
   "name": "python2"
  },
  "language_info": {
   "codemirror_mode": {
    "name": "ipython",
    "version": 2
   },
   "file_extension": ".py",
   "mimetype": "text/x-python",
   "name": "python",
   "nbconvert_exporter": "python",
   "pygments_lexer": "ipython2",
   "version": "2.7.13"
  }
 },
 "nbformat": 4,
 "nbformat_minor": 2
}
