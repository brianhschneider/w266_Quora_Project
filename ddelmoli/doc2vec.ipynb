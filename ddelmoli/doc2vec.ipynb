{
 "cells": [
  {
   "cell_type": "code",
   "execution_count": 100,
   "metadata": {},
   "outputs": [
    {
     "name": "stdout",
     "output_type": "stream",
     "text": [
      "8\n",
      "There are 73451 sentences in the corpus.\n",
      "The first sentence is:\n"
     ]
    },
    {
     "data": {
      "text/plain": [
       "[('In', 'IN'),\n",
       " ('American', 'JJ'),\n",
       " ('romance', 'NN'),\n",
       " (',', ','),\n",
       " ('almost', 'RB'),\n",
       " ('nothing', 'NN'),\n",
       " ('rates', 'VBZ'),\n",
       " ('*-2', '-NONE-'),\n",
       " ('higher', 'JJR'),\n",
       " ('than', 'IN'),\n",
       " ('what', 'WP'),\n",
       " ('the', 'DT'),\n",
       " ('movie', 'NN'),\n",
       " ('men', 'NNS'),\n",
       " ('have', 'VB'),\n",
       " ('called', 'VBN'),\n",
       " ('*T*-1', '-NONE-'),\n",
       " ('``', '``'),\n",
       " ('*', '-NONE-'),\n",
       " ('meeting', 'NN'),\n",
       " ('cute', 'JJ'),\n",
       " (\"''\", \"''\"),\n",
       " ('--', ':'),\n",
       " ('that', 'DT'),\n",
       " ('is', 'VBZ'),\n",
       " (',', ','),\n",
       " ('boy-meets-girl', 'NN'),\n",
       " ('seems', 'VBZ'),\n",
       " ('more', 'RB'),\n",
       " ('adorable', 'JJ'),\n",
       " ('if', 'IN'),\n",
       " ('it', 'PRP'),\n",
       " ('does', 'VBZ'),\n",
       " (\"n't\", 'RB'),\n",
       " ('take', 'VB'),\n",
       " ('place', 'NN'),\n",
       " ('in', 'IN'),\n",
       " ('an', 'DT'),\n",
       " ('atmosphere', 'NN'),\n",
       " ('of', 'IN'),\n",
       " ('correct', 'JJ'),\n",
       " ('and', 'CC'),\n",
       " ('acute', 'JJ'),\n",
       " ('boredom', 'NN'),\n",
       " ('.', '.')]"
      ]
     },
     "execution_count": 100,
     "metadata": {},
     "output_type": "execute_result"
    }
   ],
   "source": [
    "import nltk            # natural language tool kit\n",
    "import numpy as np     # support for large data structures\n",
    "import pandas as pd    # data structure support\n",
    "import string          # various string functions\n",
    "import difflib         # classes and functions for comparing sequences\n",
    "from sklearn.metrics import log_loss    # used in measurement / scoring\n",
    "from sklearn.metrics import classification_report   # among other things, provides accuracy and f1\n",
    "from numpy import dot\n",
    "from numpy.linalg import norm\n",
    "\n",
    "from importlib import reload\n",
    "\n",
    "# Libraries for Doc2Vec processing\n",
    "from gensim import models, corpora, similarities\n",
    "from gensim.models.doc2vec import TaggedDocument, Doc2Vec\n",
    "from nltk.tokenize import TweetTokenizer\n",
    "import pyemd\n",
    "import csv\n",
    "import multiprocessing\n",
    "\n",
    "cores = multiprocessing.cpu_count()\n",
    "print(cores)\n",
    "\n",
    "import pos3\n",
    "from importlib import reload \n",
    "\n",
    "# Load the Penn Treebank Corpus which will serve as our training set.\n",
    "#corpus = nltk.corpus.treebank\n",
    "corpus = nltk.corpus.ptb\n",
    "print('There are %d sentences in the corpus.' % len(corpus.tagged_sents()))\n",
    "print('The first sentence is:')\n",
    "corpus.tagged_sents()[0]"
   ]
  },
  {
   "cell_type": "code",
   "execution_count": 142,
   "metadata": {},
   "outputs": [
    {
     "data": {
      "text/html": [
       "<div>\n",
       "<style>\n",
       "    .dataframe thead tr:only-child th {\n",
       "        text-align: right;\n",
       "    }\n",
       "\n",
       "    .dataframe thead th {\n",
       "        text-align: left;\n",
       "    }\n",
       "\n",
       "    .dataframe tbody tr th {\n",
       "        vertical-align: top;\n",
       "    }\n",
       "</style>\n",
       "<table border=\"1\" class=\"dataframe\">\n",
       "  <thead>\n",
       "    <tr style=\"text-align: right;\">\n",
       "      <th></th>\n",
       "      <th>id</th>\n",
       "      <th>qid1</th>\n",
       "      <th>qid2</th>\n",
       "      <th>question1</th>\n",
       "      <th>question2</th>\n",
       "      <th>is_duplicate</th>\n",
       "    </tr>\n",
       "  </thead>\n",
       "  <tbody>\n",
       "    <tr>\n",
       "      <th>0</th>\n",
       "      <td>57674</td>\n",
       "      <td>5725</td>\n",
       "      <td>38477</td>\n",
       "      <td>How can I get a list of my Gmail accounts?</td>\n",
       "      <td>How do I find my list of GMail addresses?</td>\n",
       "      <td>1</td>\n",
       "    </tr>\n",
       "    <tr>\n",
       "      <th>1</th>\n",
       "      <td>185568</td>\n",
       "      <td>283254</td>\n",
       "      <td>283255</td>\n",
       "      <td>What are the symptoms of child abuse?</td>\n",
       "      <td>What are signs of child abuse?</td>\n",
       "      <td>1</td>\n",
       "    </tr>\n",
       "    <tr>\n",
       "      <th>2</th>\n",
       "      <td>359111</td>\n",
       "      <td>400936</td>\n",
       "      <td>488715</td>\n",
       "      <td>What are some examples of selfishness?</td>\n",
       "      <td>Do we all occasionally tend to emotional masoc...</td>\n",
       "      <td>0</td>\n",
       "    </tr>\n",
       "    <tr>\n",
       "      <th>3</th>\n",
       "      <td>204216</td>\n",
       "      <td>281934</td>\n",
       "      <td>307050</td>\n",
       "      <td>Is Qnet a scam?</td>\n",
       "      <td>Where is the registered office of Qnet in Mumbai?</td>\n",
       "      <td>0</td>\n",
       "    </tr>\n",
       "    <tr>\n",
       "      <th>4</th>\n",
       "      <td>5649</td>\n",
       "      <td>11103</td>\n",
       "      <td>11104</td>\n",
       "      <td>What do Americans think about Donald Trump?</td>\n",
       "      <td>What do you think about Donald Trump pick?</td>\n",
       "      <td>1</td>\n",
       "    </tr>\n",
       "    <tr>\n",
       "      <th>5</th>\n",
       "      <td>173796</td>\n",
       "      <td>268021</td>\n",
       "      <td>268022</td>\n",
       "      <td>How can we cure molluscum?</td>\n",
       "      <td>How can I cure mysthenu?</td>\n",
       "      <td>0</td>\n",
       "    </tr>\n",
       "    <tr>\n",
       "      <th>6</th>\n",
       "      <td>341162</td>\n",
       "      <td>160540</td>\n",
       "      <td>468955</td>\n",
       "      <td>What is the difference between a Java applet a...</td>\n",
       "      <td>What is the difference of Java applet and Java...</td>\n",
       "      <td>0</td>\n",
       "    </tr>\n",
       "    <tr>\n",
       "      <th>7</th>\n",
       "      <td>288327</td>\n",
       "      <td>409266</td>\n",
       "      <td>409267</td>\n",
       "      <td>Is meditation dangerous and should I do it?</td>\n",
       "      <td>Is meditation very dangerous?</td>\n",
       "      <td>1</td>\n",
       "    </tr>\n",
       "    <tr>\n",
       "      <th>8</th>\n",
       "      <td>302830</td>\n",
       "      <td>425865</td>\n",
       "      <td>425866</td>\n",
       "      <td>What are good gift ideas for a dad in his late...</td>\n",
       "      <td>What are some good gift ideas for my girlfrien...</td>\n",
       "      <td>0</td>\n",
       "    </tr>\n",
       "    <tr>\n",
       "      <th>9</th>\n",
       "      <td>14588</td>\n",
       "      <td>27925</td>\n",
       "      <td>27926</td>\n",
       "      <td>Can a restaurant be sued for serving meat to v...</td>\n",
       "      <td>How is vegetarian feta cheese served?</td>\n",
       "      <td>0</td>\n",
       "    </tr>\n",
       "    <tr>\n",
       "      <th>10</th>\n",
       "      <td>218155</td>\n",
       "      <td>11382</td>\n",
       "      <td>5562</td>\n",
       "      <td>Should President Obama pardon Hillary Clinton ...</td>\n",
       "      <td>If Hillary Clinton is indicted in June or July...</td>\n",
       "      <td>0</td>\n",
       "    </tr>\n",
       "    <tr>\n",
       "      <th>11</th>\n",
       "      <td>298900</td>\n",
       "      <td>132471</td>\n",
       "      <td>44677</td>\n",
       "      <td>What are some lesser known facts about PM Nare...</td>\n",
       "      <td>What are some lesser known facts/incidents rel...</td>\n",
       "      <td>1</td>\n",
       "    </tr>\n",
       "    <tr>\n",
       "      <th>12</th>\n",
       "      <td>271581</td>\n",
       "      <td>42216</td>\n",
       "      <td>389691</td>\n",
       "      <td>Who has scored more goals via free kick, Messi...</td>\n",
       "      <td>Who has Ronaldo and Messi struggled against?</td>\n",
       "      <td>0</td>\n",
       "    </tr>\n",
       "    <tr>\n",
       "      <th>13</th>\n",
       "      <td>179902</td>\n",
       "      <td>275946</td>\n",
       "      <td>275947</td>\n",
       "      <td>What is your best relationship advice?</td>\n",
       "      <td>What is the best relationship advice?</td>\n",
       "      <td>1</td>\n",
       "    </tr>\n",
       "    <tr>\n",
       "      <th>14</th>\n",
       "      <td>215247</td>\n",
       "      <td>321073</td>\n",
       "      <td>321074</td>\n",
       "      <td>Now that JEE Advanced 2016 Official Answer Key...</td>\n",
       "      <td>Were there any discrepancies in the JEE Advanc...</td>\n",
       "      <td>0</td>\n",
       "    </tr>\n",
       "    <tr>\n",
       "      <th>15</th>\n",
       "      <td>348212</td>\n",
       "      <td>476754</td>\n",
       "      <td>289179</td>\n",
       "      <td>What does the \"nature of something\" mean?</td>\n",
       "      <td>What is the nature of meaning?</td>\n",
       "      <td>0</td>\n",
       "    </tr>\n",
       "    <tr>\n",
       "      <th>16</th>\n",
       "      <td>102150</td>\n",
       "      <td>169054</td>\n",
       "      <td>169055</td>\n",
       "      <td>How can I search the chat history in the Line ...</td>\n",
       "      <td>Can I pay someone on Zaarly to wait in line to...</td>\n",
       "      <td>0</td>\n",
       "    </tr>\n",
       "    <tr>\n",
       "      <th>17</th>\n",
       "      <td>68166</td>\n",
       "      <td>117850</td>\n",
       "      <td>104086</td>\n",
       "      <td>I am a chemical engineer and I want start my o...</td>\n",
       "      <td>I'm 19 and I want to be a multi-millionaire. I...</td>\n",
       "      <td>0</td>\n",
       "    </tr>\n",
       "    <tr>\n",
       "      <th>18</th>\n",
       "      <td>283588</td>\n",
       "      <td>403708</td>\n",
       "      <td>403709</td>\n",
       "      <td>What are the two types of scrollbars? How do t...</td>\n",
       "      <td>How do use Jio sim in 3G phone?</td>\n",
       "      <td>0</td>\n",
       "    </tr>\n",
       "    <tr>\n",
       "      <th>19</th>\n",
       "      <td>324231</td>\n",
       "      <td>43330</td>\n",
       "      <td>229963</td>\n",
       "      <td>Is there any way to Get Free Coins for Pokemon...</td>\n",
       "      <td>How do get free Poké coins?</td>\n",
       "      <td>1</td>\n",
       "    </tr>\n",
       "  </tbody>\n",
       "</table>\n",
       "</div>"
      ],
      "text/plain": [
       "        id    qid1    qid2                                          question1  \\\n",
       "0    57674    5725   38477         How can I get a list of my Gmail accounts?   \n",
       "1   185568  283254  283255              What are the symptoms of child abuse?   \n",
       "2   359111  400936  488715             What are some examples of selfishness?   \n",
       "3   204216  281934  307050                                    Is Qnet a scam?   \n",
       "4     5649   11103   11104        What do Americans think about Donald Trump?   \n",
       "5   173796  268021  268022                         How can we cure molluscum?   \n",
       "6   341162  160540  468955  What is the difference between a Java applet a...   \n",
       "7   288327  409266  409267        Is meditation dangerous and should I do it?   \n",
       "8   302830  425865  425866  What are good gift ideas for a dad in his late...   \n",
       "9    14588   27925   27926  Can a restaurant be sued for serving meat to v...   \n",
       "10  218155   11382    5562  Should President Obama pardon Hillary Clinton ...   \n",
       "11  298900  132471   44677  What are some lesser known facts about PM Nare...   \n",
       "12  271581   42216  389691  Who has scored more goals via free kick, Messi...   \n",
       "13  179902  275946  275947             What is your best relationship advice?   \n",
       "14  215247  321073  321074  Now that JEE Advanced 2016 Official Answer Key...   \n",
       "15  348212  476754  289179          What does the \"nature of something\" mean?   \n",
       "16  102150  169054  169055  How can I search the chat history in the Line ...   \n",
       "17   68166  117850  104086  I am a chemical engineer and I want start my o...   \n",
       "18  283588  403708  403709  What are the two types of scrollbars? How do t...   \n",
       "19  324231   43330  229963  Is there any way to Get Free Coins for Pokemon...   \n",
       "\n",
       "                                            question2  is_duplicate  \n",
       "0           How do I find my list of GMail addresses?             1  \n",
       "1                      What are signs of child abuse?             1  \n",
       "2   Do we all occasionally tend to emotional masoc...             0  \n",
       "3   Where is the registered office of Qnet in Mumbai?             0  \n",
       "4          What do you think about Donald Trump pick?             1  \n",
       "5                            How can I cure mysthenu?             0  \n",
       "6   What is the difference of Java applet and Java...             0  \n",
       "7                       Is meditation very dangerous?             1  \n",
       "8   What are some good gift ideas for my girlfrien...             0  \n",
       "9               How is vegetarian feta cheese served?             0  \n",
       "10  If Hillary Clinton is indicted in June or July...             0  \n",
       "11  What are some lesser known facts/incidents rel...             1  \n",
       "12       Who has Ronaldo and Messi struggled against?             0  \n",
       "13              What is the best relationship advice?             1  \n",
       "14  Were there any discrepancies in the JEE Advanc...             0  \n",
       "15                     What is the nature of meaning?             0  \n",
       "16  Can I pay someone on Zaarly to wait in line to...             0  \n",
       "17  I'm 19 and I want to be a multi-millionaire. I...             0  \n",
       "18                    How do use Jio sim in 3G phone?             0  \n",
       "19                        How do get free Poké coins?             1  "
      ]
     },
     "execution_count": 142,
     "metadata": {},
     "output_type": "execute_result"
    }
   ],
   "source": [
    "train = pd.read_csv('Data/train_split.csv')\n",
    "del train[\"Unnamed: 0\"]\n",
    "train.head(20)"
   ]
  },
  {
   "cell_type": "code",
   "execution_count": 41,
   "metadata": {},
   "outputs": [
    {
     "name": "stdout",
     "output_type": "stream",
     "text": [
      "<class 'str'>\n"
     ]
    }
   ],
   "source": [
    "qpair = train.iloc[[0]]\n",
    "print(type(qpair[\"question1\"].item()))"
   ]
  },
  {
   "cell_type": "code",
   "execution_count": 43,
   "metadata": {},
   "outputs": [
    {
     "name": "stdout",
     "output_type": "stream",
     "text": [
      "26691    How can I develop android app?\n",
      "Name: question1, dtype: object\n",
      "26691    NaN\n",
      "Name: question2, dtype: object\n"
     ]
    }
   ],
   "source": [
    "#with open('Data/train_split.csv', 'rU') as f:\n",
    "#    f.next()\n",
    "#    reader = csv.reader(f)\n",
    "#    qpairs = list(reader)\n",
    "   \n",
    "tknzr = TweetTokenizer()\n",
    "qcorp = []\n",
    "qdict = {}\n",
    "for i in range(len(train)):\n",
    "    qpair = train.iloc[[i]]\n",
    "    qid = qpair[\"qid1\"].item()\n",
    "    qwords = tknzr.tokenize(qpair[\"question1\"].item())\n",
    "    q = TaggedDocument(words=qwords, tags=[\"QID_\"+str(qid)])\n",
    "    qcorp.append(q)\n",
    "    qdict[\"QID_\"+str(qid)] = qwords\n",
    "    qid = qpair[\"qid2\"].item()\n",
    "    if type(qpair[\"question2\"].item()) is str:\n",
    "        qwords = tknzr.tokenize(qpair[\"question2\"].item())\n",
    "        q = TaggedDocument(words=qwords, tags=[\"QID_\"+str(qid)])\n",
    "        qcorp.append(q)\n",
    "        qdict[\"QID_\"+str(qid)] = qwords\n",
    "    else:\n",
    "        print(qpair[\"question1\"])\n",
    "        print(qpair[\"question2\"])\n"
   ]
  },
  {
   "cell_type": "code",
   "execution_count": 78,
   "metadata": {},
   "outputs": [
    {
     "data": {
      "text/plain": [
       "98911406"
      ]
     },
     "execution_count": 78,
     "metadata": {},
     "output_type": "execute_result"
    }
   ],
   "source": [
    "model = Doc2Vec(size=100, window=3, negative=5, sample=1e-4, min_count=2, workers=cores, alpha=0.025, min_alpha=0.020, iter=20)\n",
    "model.build_vocab(qcorp)\n",
    "model.train(qcorp, total_examples=model.corpus_count, epochs=model.iter)"
   ]
  },
  {
   "cell_type": "code",
   "execution_count": 79,
   "metadata": {
    "collapsed": true
   },
   "outputs": [],
   "source": [
    "model.save(\"doc2vec.model\")"
   ]
  },
  {
   "cell_type": "code",
   "execution_count": 51,
   "metadata": {},
   "outputs": [],
   "source": [
    "model = Doc2Vec.load(\"doc2vec.model\")"
   ]
  },
  {
   "cell_type": "code",
   "execution_count": 80,
   "metadata": {
    "collapsed": true
   },
   "outputs": [],
   "source": [
    "vectors = model.docvecs"
   ]
  },
  {
   "cell_type": "code",
   "execution_count": 53,
   "metadata": {},
   "outputs": [
    {
     "ename": "NameError",
     "evalue": "name 'qpairs' is not defined",
     "output_type": "error",
     "traceback": [
      "\u001b[0;31m---------------------------------------------------------------------------\u001b[0m",
      "\u001b[0;31mNameError\u001b[0m                                 Traceback (most recent call last)",
      "\u001b[0;32m<ipython-input-53-15be0d1bd0b9>\u001b[0m in \u001b[0;36m<module>\u001b[0;34m()\u001b[0m\n\u001b[1;32m      1\u001b[0m \u001b[0mdv_results\u001b[0m \u001b[0;34m=\u001b[0m \u001b[0;34m[\u001b[0m\u001b[0;34m]\u001b[0m\u001b[0;34m\u001b[0m\u001b[0m\n\u001b[0;32m----> 2\u001b[0;31m \u001b[0;32mfor\u001b[0m \u001b[0mi\u001b[0m \u001b[0;32min\u001b[0m \u001b[0mrange\u001b[0m\u001b[0;34m(\u001b[0m\u001b[0mlen\u001b[0m\u001b[0;34m(\u001b[0m\u001b[0mqpairs\u001b[0m\u001b[0;34m)\u001b[0m\u001b[0;34m)\u001b[0m\u001b[0;34m:\u001b[0m\u001b[0;34m\u001b[0m\u001b[0m\n\u001b[0m\u001b[1;32m      3\u001b[0m     \u001b[0mqid1\u001b[0m \u001b[0;34m=\u001b[0m \u001b[0;34m\"QID_\"\u001b[0m\u001b[0;34m+\u001b[0m\u001b[0mstr\u001b[0m\u001b[0;34m(\u001b[0m\u001b[0mqpairs\u001b[0m\u001b[0;34m[\u001b[0m\u001b[0mi\u001b[0m\u001b[0;34m]\u001b[0m\u001b[0;34m[\u001b[0m\u001b[0;36m1\u001b[0m\u001b[0;34m]\u001b[0m\u001b[0;34m)\u001b[0m\u001b[0;34m\u001b[0m\u001b[0m\n\u001b[1;32m      4\u001b[0m     \u001b[0mqid2\u001b[0m \u001b[0;34m=\u001b[0m \u001b[0;34m\"QID_\"\u001b[0m\u001b[0;34m+\u001b[0m\u001b[0mstr\u001b[0m\u001b[0;34m(\u001b[0m\u001b[0mqpairs\u001b[0m\u001b[0;34m[\u001b[0m\u001b[0mi\u001b[0m\u001b[0;34m]\u001b[0m\u001b[0;34m[\u001b[0m\u001b[0;36m2\u001b[0m\u001b[0;34m]\u001b[0m\u001b[0;34m)\u001b[0m\u001b[0;34m\u001b[0m\u001b[0m\n\u001b[1;32m      5\u001b[0m     \u001b[0mdv_similarity\u001b[0m \u001b[0;34m=\u001b[0m \u001b[0mvectors\u001b[0m\u001b[0;34m.\u001b[0m\u001b[0msimilarity\u001b[0m\u001b[0;34m(\u001b[0m\u001b[0mqid1\u001b[0m\u001b[0;34m,\u001b[0m \u001b[0mqid2\u001b[0m\u001b[0;34m)\u001b[0m\u001b[0;34m\u001b[0m\u001b[0m\n",
      "\u001b[0;31mNameError\u001b[0m: name 'qpairs' is not defined"
     ]
    }
   ],
   "source": [
    "dv_results = []\n",
    "for i in range(len(qpairs)):\n",
    "    qid1 = \"QID_\"+str(qpairs[i][1])\n",
    "    qid2 = \"QID_\"+str(qpairs[i][2])\n",
    "    dv_similarity = vectors.similarity(qid1, qid2)\n",
    "    dv_results.append([i, dv_similarity])\n",
    "    #qpairs[i].extend([score])"
   ]
  },
  {
   "cell_type": "code",
   "execution_count": 27,
   "metadata": {
    "collapsed": true
   },
   "outputs": [],
   "source": [
    "actuals = np.array(train['is_duplicate'])\n",
    "n_dv_results = np.array(dv_results)\n",
    "\n",
    "predictions_dv = n_dv_results[:,1]"
   ]
  },
  {
   "cell_type": "code",
   "execution_count": 28,
   "metadata": {
    "collapsed": true
   },
   "outputs": [],
   "source": [
    "# build a function to run scoring\n",
    "# function takes an array of actuals, predicted values (as percentages, not absolute), and a probability \n",
    "# probability represents value over which over which we assume = 1)\n",
    "# percentages are converted to absolute values (0 or 1) with the function\n",
    "\n",
    "def score(actuals, predictions, probability):\n",
    "    score_sm = log_loss(actuals, predictions)\n",
    "    print ('log loss score is: %3f' %(score_sm))\n",
    "    \n",
    "    n_abs = np.where(predictions > probability, 1, 0)\n",
    "    \n",
    "    total_wrong = np.sum(np.not_equal(actuals, n_abs))\n",
    "    print ('number of incorrect predictions is: %3d' %(total_wrong))\n",
    "    total = len(actuals)\n",
    "    correct = total - total_wrong\n",
    "    print ('total: %3d  correct: %3d  accuracy: %3.2f \\n' %(total, correct, 1.0*correct/total))\n",
    "    print classification_report(actuals, n_abs)"
   ]
  },
  {
   "cell_type": "code",
   "execution_count": 29,
   "metadata": {},
   "outputs": [
    {
     "name": "stdout",
     "output_type": "stream",
     "text": [
      "log loss score is: 0.661802\n",
      "number of incorrect predictions is: 136267\n",
      "total: 404351  correct: 268084  accuracy: 0.66 \n",
      "\n",
      "             precision    recall  f1-score   support\n",
      "\n",
      "          0       0.83      0.59      0.69    255045\n",
      "          1       0.53      0.79      0.63    149306\n",
      "\n",
      "avg / total       0.72      0.66      0.67    404351\n",
      "\n"
     ]
    }
   ],
   "source": [
    "score(actuals, predictions_dv, .50)"
   ]
  },
  {
   "cell_type": "code",
   "execution_count": 25,
   "metadata": {},
   "outputs": [
    {
     "name": "stdout",
     "output_type": "stream",
     "text": [
      "['0', '1', '2', 'What is the step by step guide to invest in share market in india?', 'What is the step by step guide to invest in share market?', '0']\n",
      "['1', '3', '4', 'What is the story of Kohinoor (Koh-i-Noor) Diamond?', 'What would happen if the Indian government stole the Kohinoor (Koh-i-Noor) diamond back?', '0']\n",
      "['2', '5', '6', 'How can I increase the speed of my internet connection while using a VPN?', 'How can Internet speed be increased by hacking through DNS?', '0']\n",
      "['3', '7', '8', 'Why am I mentally very lonely? How can I solve it?', 'Find the remainder when [math]23^{24}[/math] is divided by 24,23?', '0']\n",
      "['4', '9', '10', 'Which one dissolve in water quikly sugar, salt, methane and carbon di oxide?', 'Which fish would survive in salt water?', '0']\n",
      "['5', '11', '12', 'Astrology: I am a Capricorn Sun Cap moon and cap rising...what does that say about me?', \"I'm a triple Capricorn (Sun, Moon and ascendant in Capricorn) What does this say about me?\", '1']\n",
      "['6', '13', '14', 'Should I buy tiago?', 'What keeps childern active and far from phone and video games?', '0']\n",
      "['7', '15', '16', 'How can I be a good geologist?', 'What should I do to be a great geologist?', '1']\n",
      "['8', '17', '18', 'When do you use \\xe3\\x82\\xb7 instead of \\xe3\\x81\\x97?', 'When do you use \"&\" instead of \"and\"?', '0']\n",
      "['9', '19', '20', 'Motorola (company): Can I hack my Charter Motorolla DCX3400?', 'How do I hack Motorola DCX3400 for free internet?', '0']\n",
      "['10', '21', '22', 'Method to find separation of slits using fresnel biprism?', 'What are some of the things technicians can tell about the durability and reliability of Laptops and its components?', '0']\n",
      "['11', '23', '24', 'How do I read and find my YouTube comments?', 'How can I see all my Youtube comments?', '1']\n",
      "['12', '25', '26', 'What can make Physics easy to learn?', 'How can you make physics easy to learn?', '1']\n",
      "['13', '27', '28', 'What was your first sexual experience like?', 'What was your first sexual experience?', '1']\n",
      "['14', '29', '30', 'What are the laws to change your status from a student visa to a green card in the US, how do they compare to the immigration laws in Canada?', 'What are the laws to change your status from a student visa to a green card in the US? How do they compare to the immigration laws in Japan?', '0']\n",
      "['15', '31', '32', 'What would a Trump presidency mean for current international master\\xe2\\x80\\x99s students on an F1 visa?', 'How will a Trump presidency affect the students presently in US or planning to study in US?', '1']\n",
      "['16', '33', '34', 'What does manipulation mean?', 'What does manipulation means?', '1']\n",
      "['17', '35', '36', 'Why do girls want to be friends with the guy they reject?', 'How do guys feel after rejecting a girl?', '0']\n",
      "['18', '37', '38', 'Why are so many Quora users posting questions that are readily answered on Google?', 'Why do people ask Quora questions which can be answered easily by Google?', '1']\n",
      "['19', '39', '40', 'Which is the best digital marketing institution in banglore?', 'Which is the best digital marketing institute in Pune?', '0']\n",
      "['20', '41', '42', 'Why do rockets look white?', 'Why are rockets and boosters painted white?', '1']\n",
      "['21', '43', '44', \"What's causing someone to be jealous?\", 'What can I do to avoid being jealous of someone?', '0']\n",
      "['22', '45', '46', 'What are the questions should not ask on Quora?', 'Which question should I ask on Quora?', '0']\n",
      "['23', '47', '48', 'How much is 30 kV in HP?', 'Where can I find a conversion chart for CC to horsepower?', '0']\n",
      "['24', '49', '50', 'What does it mean that every time I look at the clock the numbers are the same?', 'How many times a day do a clock\\xe2\\x80\\x99s hands overlap?', '0']\n"
     ]
    }
   ],
   "source": [
    "for i in range(25):\n",
    "    print qpairs[i]"
   ]
  },
  {
   "cell_type": "code",
   "execution_count": 81,
   "metadata": {
    "collapsed": true
   },
   "outputs": [],
   "source": [
    "wordvectors = model.wv"
   ]
  },
  {
   "cell_type": "code",
   "execution_count": 140,
   "metadata": {},
   "outputs": [
    {
     "name": "stdout",
     "output_type": "stream",
     "text": [
      "[('diffusers', 0.6048799753189087), ('cancerides', 0.5876442193984985), ('aspirated', 0.5872788429260254), ('cinchers', 0.5846953392028809), ('arresters', 0.5789477825164795), ('pumps', 0.5783033967018127), ('meditations', 0.5774851441383362), ('hexagonal', 0.5761784911155701), ('fabricators', 0.5706850290298462), ('12mm', 0.5669615864753723)]\n"
     ]
    }
   ],
   "source": [
    "print(wordvectors.most_similar([\"boosters\"]))"
   ]
  },
  {
   "cell_type": "code",
   "execution_count": 83,
   "metadata": {},
   "outputs": [
    {
     "name": "stdout",
     "output_type": "stream",
     "text": [
      "['What', 'are', 'some', 'examples', 'of', 'selfishness', '?']\n",
      "('QID_378642', 0.941085159778595) ['What', 'is', 'a', 'Oligarchy', '?', 'What', 'are', 'some', 'examples', '?']\n",
      "('QID_346301', 0.940555214881897) ['What', 'are', 'some', 'mannerism', 'examples', '?']\n",
      "('QID_337169', 0.9387899041175842) ['What', 'are', 'some', 'examples', 'of', 'plasticizer', '?']\n",
      "('QID_65404', 0.935355544090271) ['What', 'are', 'polysaccharides', '?', 'What', 'are', 'some', 'examples', '?']\n",
      "('QID_427674', 0.9343449473381042) ['What', 'are', 'some', 'examples', 'of', 'mutagens', '?']\n",
      "('QID_85600', 0.9323787689208984) ['What', 'are', 'examples', 'of', 'disaccharides', '?']\n",
      "('QID_258618', 0.9319553971290588) ['What', 'are', 'some', 'examples', 'of', 'dehumanization', '?']\n",
      "('QID_319471', 0.9300248622894287) ['What', 'is', 'sequent', 'occupance', '?', 'What', 'are', 'some', 'examples', '?']\n",
      "('QID_113789', 0.9275696277618408) ['What', 'are', 'examples', 'of', 'Nematoda', '?']\n",
      "('QID_284403', 0.9272573590278625) ['What', 'are', 'some', 'examples', 'of', 'isolationism', '?']\n"
     ]
    }
   ],
   "source": [
    "test = \"QID_400936\"\n",
    "print(qdict[test])\n",
    "for q in vectors.most_similar([\"QID_400936\"]):\n",
    "    print(q, qdict[q[0]])"
   ]
  }
 ],
 "metadata": {
  "anaconda-cloud": {},
  "kernelspec": {
   "display_name": "Python 3",
   "language": "python",
   "name": "python3"
  },
  "language_info": {
   "codemirror_mode": {
    "name": "ipython",
    "version": 3
   },
   "file_extension": ".py",
   "mimetype": "text/x-python",
   "name": "python",
   "nbconvert_exporter": "python",
   "pygments_lexer": "ipython3",
   "version": "3.5.4"
  }
 },
 "nbformat": 4,
 "nbformat_minor": 1
}
