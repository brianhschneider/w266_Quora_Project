{
 "cells": [
  {
   "cell_type": "code",
   "execution_count": 11,
   "metadata": {
    "collapsed": false
   },
   "outputs": [
    {
     "name": "stdout",
     "output_type": "stream",
     "text": [
      "8\n"
     ]
    }
   ],
   "source": [
    "import nltk            # natural language tool kit\n",
    "import numpy as np     # support for large data structures\n",
    "import pandas as pd    # data structure support\n",
    "import string          # various string functions\n",
    "import difflib         # classes and functions for comparing sequences\n",
    "from sklearn.metrics import log_loss    # used in measurement / scoring\n",
    "from sklearn.metrics import classification_report   # among other things, provides accuracy and f1\n",
    "\n",
    "# Libraries for Doc2Vec processing\n",
    "from gensim import models, corpora, similarities\n",
    "from gensim.models.doc2vec import TaggedDocument, Doc2Vec\n",
    "from nltk.tokenize import TweetTokenizer\n",
    "import pyemd\n",
    "import csv\n",
    "import multiprocessing\n",
    "\n",
    "cores = multiprocessing.cpu_count()\n",
    "print cores"
   ]
  },
  {
   "cell_type": "code",
   "execution_count": 12,
   "metadata": {
    "collapsed": false
   },
   "outputs": [
    {
     "data": {
      "text/html": [
       "<div>\n",
       "<table border=\"1\" class=\"dataframe\">\n",
       "  <thead>\n",
       "    <tr style=\"text-align: right;\">\n",
       "      <th></th>\n",
       "      <th>id</th>\n",
       "      <th>qid1</th>\n",
       "      <th>qid2</th>\n",
       "      <th>question1</th>\n",
       "      <th>question2</th>\n",
       "      <th>is_duplicate</th>\n",
       "    </tr>\n",
       "  </thead>\n",
       "  <tbody>\n",
       "    <tr>\n",
       "      <th>0</th>\n",
       "      <td>0</td>\n",
       "      <td>1</td>\n",
       "      <td>2</td>\n",
       "      <td>What is the step by step guide to invest in sh...</td>\n",
       "      <td>What is the step by step guide to invest in sh...</td>\n",
       "      <td>0</td>\n",
       "    </tr>\n",
       "    <tr>\n",
       "      <th>1</th>\n",
       "      <td>1</td>\n",
       "      <td>3</td>\n",
       "      <td>4</td>\n",
       "      <td>What is the story of Kohinoor (Koh-i-Noor) Dia...</td>\n",
       "      <td>What would happen if the Indian government sto...</td>\n",
       "      <td>0</td>\n",
       "    </tr>\n",
       "    <tr>\n",
       "      <th>2</th>\n",
       "      <td>2</td>\n",
       "      <td>5</td>\n",
       "      <td>6</td>\n",
       "      <td>How can I increase the speed of my internet co...</td>\n",
       "      <td>How can Internet speed be increased by hacking...</td>\n",
       "      <td>0</td>\n",
       "    </tr>\n",
       "    <tr>\n",
       "      <th>3</th>\n",
       "      <td>3</td>\n",
       "      <td>7</td>\n",
       "      <td>8</td>\n",
       "      <td>Why am I mentally very lonely? How can I solve...</td>\n",
       "      <td>Find the remainder when [math]23^{24}[/math] i...</td>\n",
       "      <td>0</td>\n",
       "    </tr>\n",
       "    <tr>\n",
       "      <th>4</th>\n",
       "      <td>4</td>\n",
       "      <td>9</td>\n",
       "      <td>10</td>\n",
       "      <td>Which one dissolve in water quikly sugar, salt...</td>\n",
       "      <td>Which fish would survive in salt water?</td>\n",
       "      <td>0</td>\n",
       "    </tr>\n",
       "  </tbody>\n",
       "</table>\n",
       "</div>"
      ],
      "text/plain": [
       "   id  qid1  qid2                                          question1  \\\n",
       "0   0     1     2  What is the step by step guide to invest in sh...   \n",
       "1   1     3     4  What is the story of Kohinoor (Koh-i-Noor) Dia...   \n",
       "2   2     5     6  How can I increase the speed of my internet co...   \n",
       "3   3     7     8  Why am I mentally very lonely? How can I solve...   \n",
       "4   4     9    10  Which one dissolve in water quikly sugar, salt...   \n",
       "\n",
       "                                           question2  is_duplicate  \n",
       "0  What is the step by step guide to invest in sh...             0  \n",
       "1  What would happen if the Indian government sto...             0  \n",
       "2  How can Internet speed be increased by hacking...             0  \n",
       "3  Find the remainder when [math]23^{24}[/math] i...             0  \n",
       "4            Which fish would survive in salt water?             0  "
      ]
     },
     "execution_count": 12,
     "metadata": {},
     "output_type": "execute_result"
    }
   ],
   "source": [
    "train = pd.read_csv('Data/train.csv')\n",
    "train.head()"
   ]
  },
  {
   "cell_type": "code",
   "execution_count": 23,
   "metadata": {
    "collapsed": false
   },
   "outputs": [
    {
     "name": "stdout",
     "output_type": "stream",
     "text": [
      "\n"
     ]
    }
   ],
   "source": [
    "with open('Data/train.csv', 'rU') as f:\n",
    "    f.next()\n",
    "    reader = csv.reader(f)\n",
    "    qpairs = list(reader)\n",
    "   \n",
    "tknzr = TweetTokenizer()\n",
    "qcorp = []\n",
    "qdict = {}\n",
    "for qpair in qpairs:\n",
    "    qid = qpair[1]\n",
    "    qwords = tknzr.tokenize(qpair[3])\n",
    "    q = TaggedDocument(words=qwords, tags=[\"QID_\"+str(qid)])\n",
    "    qcorp.append(q)\n",
    "    qdict[\"QID_\"+str(qid)] = qwords\n",
    "    qid = qpair[2]\n",
    "    qwords = tknzr.tokenize(qpair[4])\n",
    "    q = TaggedDocument(words=qwords, tags=[\"QID_\"+str(qid)])\n",
    "    qcorp.append(q)\n",
    "    qdict[\"QID_\"+str(qid)] = qwords"
   ]
  },
  {
   "cell_type": "code",
   "execution_count": 182,
   "metadata": {
    "collapsed": false
   },
   "outputs": [
    {
     "name": "stdout",
     "output_type": "stream",
     "text": [
      "iteration 1\n",
      "iteration 2\n",
      "iteration 3\n",
      "iteration 4\n",
      "iteration 5\n",
      "iteration 6\n",
      "iteration 7\n",
      "iteration 8\n",
      "iteration 9\n",
      "iteration 10\n"
     ]
    }
   ],
   "source": [
    "model = Doc2Vec(size=100, window=5, negative=5, sample=1e-4, min_count=2, workers=cores, alpha=0.025, min_alpha=0.025)\n",
    "model.build_vocab(qcorp)\n",
    "for epoch in range(10):\n",
    "    model.train(qcorp)\n",
    "    model.alpha -= 0.002\n",
    "    model.min_alpha = model.alpha\n",
    "    model.train(qcorp)"
   ]
  },
  {
   "cell_type": "code",
   "execution_count": 183,
   "metadata": {
    "collapsed": true
   },
   "outputs": [],
   "source": [
    "model.save(\"doc2vec.model\")"
   ]
  },
  {
   "cell_type": "code",
   "execution_count": 4,
   "metadata": {
    "collapsed": false
   },
   "outputs": [],
   "source": [
    "model = Doc2Vec.load(\"doc2vec.model\")"
   ]
  },
  {
   "cell_type": "code",
   "execution_count": 5,
   "metadata": {
    "collapsed": true
   },
   "outputs": [],
   "source": [
    "vectors = model.docvecs"
   ]
  },
  {
   "cell_type": "code",
   "execution_count": 26,
   "metadata": {
    "collapsed": false
   },
   "outputs": [],
   "source": [
    "dv_results = []\n",
    "for i in range(len(qpairs)):\n",
    "    qid1 = \"QID_\"+str(qpairs[i][1])\n",
    "    qid2 = \"QID_\"+str(qpairs[i][2])\n",
    "    dv_similarity = vectors.similarity(qid1, qid2)\n",
    "    dv_results.append([i, dv_similarity])\n",
    "    #qpairs[i].extend([score])"
   ]
  },
  {
   "cell_type": "code",
   "execution_count": 27,
   "metadata": {
    "collapsed": true
   },
   "outputs": [],
   "source": [
    "actuals = np.array(train['is_duplicate'])\n",
    "n_dv_results = np.array(dv_results)\n",
    "\n",
    "predictions_dv = n_dv_results[:,1]"
   ]
  },
  {
   "cell_type": "code",
   "execution_count": 28,
   "metadata": {
    "collapsed": true
   },
   "outputs": [],
   "source": [
    "# build a function to run scoring\n",
    "# function takes an array of actuals, predicted values (as percentages, not absolute), and a probability \n",
    "# probability represents value over which over which we assume = 1)\n",
    "# percentages are converted to absolute values (0 or 1) with the function\n",
    "\n",
    "def score(actuals, predictions, probability):\n",
    "    score_sm = log_loss(actuals, predictions)\n",
    "    print ('log loss score is: %3f' %(score_sm))\n",
    "    \n",
    "    n_abs = np.where(predictions > probability, 1, 0)\n",
    "    \n",
    "    total_wrong = np.sum(np.not_equal(actuals, n_abs))\n",
    "    print ('number of incorrect predictions is: %3d' %(total_wrong))\n",
    "    total = len(actuals)\n",
    "    correct = total - total_wrong\n",
    "    print ('total: %3d  correct: %3d  accuracy: %3.2f \\n' %(total, correct, 1.0*correct/total))\n",
    "    print classification_report(actuals, n_abs)"
   ]
  },
  {
   "cell_type": "code",
   "execution_count": 29,
   "metadata": {
    "collapsed": false
   },
   "outputs": [
    {
     "name": "stdout",
     "output_type": "stream",
     "text": [
      "log loss score is: 0.661802\n",
      "number of incorrect predictions is: 136267\n",
      "total: 404351  correct: 268084  accuracy: 0.66 \n",
      "\n",
      "             precision    recall  f1-score   support\n",
      "\n",
      "          0       0.83      0.59      0.69    255045\n",
      "          1       0.53      0.79      0.63    149306\n",
      "\n",
      "avg / total       0.72      0.66      0.67    404351\n",
      "\n"
     ]
    }
   ],
   "source": [
    "score(actuals, predictions_dv, .50)"
   ]
  },
  {
   "cell_type": "code",
   "execution_count": 25,
   "metadata": {
    "collapsed": false
   },
   "outputs": [
    {
     "name": "stdout",
     "output_type": "stream",
     "text": [
      "['0', '1', '2', 'What is the step by step guide to invest in share market in india?', 'What is the step by step guide to invest in share market?', '0']\n",
      "['1', '3', '4', 'What is the story of Kohinoor (Koh-i-Noor) Diamond?', 'What would happen if the Indian government stole the Kohinoor (Koh-i-Noor) diamond back?', '0']\n",
      "['2', '5', '6', 'How can I increase the speed of my internet connection while using a VPN?', 'How can Internet speed be increased by hacking through DNS?', '0']\n",
      "['3', '7', '8', 'Why am I mentally very lonely? How can I solve it?', 'Find the remainder when [math]23^{24}[/math] is divided by 24,23?', '0']\n",
      "['4', '9', '10', 'Which one dissolve in water quikly sugar, salt, methane and carbon di oxide?', 'Which fish would survive in salt water?', '0']\n",
      "['5', '11', '12', 'Astrology: I am a Capricorn Sun Cap moon and cap rising...what does that say about me?', \"I'm a triple Capricorn (Sun, Moon and ascendant in Capricorn) What does this say about me?\", '1']\n",
      "['6', '13', '14', 'Should I buy tiago?', 'What keeps childern active and far from phone and video games?', '0']\n",
      "['7', '15', '16', 'How can I be a good geologist?', 'What should I do to be a great geologist?', '1']\n",
      "['8', '17', '18', 'When do you use \\xe3\\x82\\xb7 instead of \\xe3\\x81\\x97?', 'When do you use \"&\" instead of \"and\"?', '0']\n",
      "['9', '19', '20', 'Motorola (company): Can I hack my Charter Motorolla DCX3400?', 'How do I hack Motorola DCX3400 for free internet?', '0']\n",
      "['10', '21', '22', 'Method to find separation of slits using fresnel biprism?', 'What are some of the things technicians can tell about the durability and reliability of Laptops and its components?', '0']\n",
      "['11', '23', '24', 'How do I read and find my YouTube comments?', 'How can I see all my Youtube comments?', '1']\n",
      "['12', '25', '26', 'What can make Physics easy to learn?', 'How can you make physics easy to learn?', '1']\n",
      "['13', '27', '28', 'What was your first sexual experience like?', 'What was your first sexual experience?', '1']\n",
      "['14', '29', '30', 'What are the laws to change your status from a student visa to a green card in the US, how do they compare to the immigration laws in Canada?', 'What are the laws to change your status from a student visa to a green card in the US? How do they compare to the immigration laws in Japan?', '0']\n",
      "['15', '31', '32', 'What would a Trump presidency mean for current international master\\xe2\\x80\\x99s students on an F1 visa?', 'How will a Trump presidency affect the students presently in US or planning to study in US?', '1']\n",
      "['16', '33', '34', 'What does manipulation mean?', 'What does manipulation means?', '1']\n",
      "['17', '35', '36', 'Why do girls want to be friends with the guy they reject?', 'How do guys feel after rejecting a girl?', '0']\n",
      "['18', '37', '38', 'Why are so many Quora users posting questions that are readily answered on Google?', 'Why do people ask Quora questions which can be answered easily by Google?', '1']\n",
      "['19', '39', '40', 'Which is the best digital marketing institution in banglore?', 'Which is the best digital marketing institute in Pune?', '0']\n",
      "['20', '41', '42', 'Why do rockets look white?', 'Why are rockets and boosters painted white?', '1']\n",
      "['21', '43', '44', \"What's causing someone to be jealous?\", 'What can I do to avoid being jealous of someone?', '0']\n",
      "['22', '45', '46', 'What are the questions should not ask on Quora?', 'Which question should I ask on Quora?', '0']\n",
      "['23', '47', '48', 'How much is 30 kV in HP?', 'Where can I find a conversion chart for CC to horsepower?', '0']\n",
      "['24', '49', '50', 'What does it mean that every time I look at the clock the numbers are the same?', 'How many times a day do a clock\\xe2\\x80\\x99s hands overlap?', '0']\n"
     ]
    }
   ],
   "source": [
    "for i in range(25):\n",
    "    print qpairs[i]"
   ]
  },
  {
   "cell_type": "code",
   "execution_count": 187,
   "metadata": {
    "collapsed": false
   },
   "outputs": [],
   "source": [
    "wordvectors = model.wv"
   ]
  },
  {
   "cell_type": "code",
   "execution_count": 193,
   "metadata": {
    "collapsed": false
   },
   "outputs": [
    {
     "name": "stdout",
     "output_type": "stream",
     "text": [
      "[(u'IAS', 0.8955783247947693), (u'CAT', 0.843267560005188), (u'GATE', 0.8333038091659546), (u'CSE', 0.8325021266937256), (u'exams', 0.8290932178497314), (u'IIT', 0.8272045850753784), (u'SSC', 0.8266948461532593), (u'exam', 0.8232311010360718), (u'graduation', 0.8177750110626221), (u'college', 0.814316987991333)]\n"
     ]
    }
   ],
   "source": [
    "print wordvectors.most_similar([\"UPSC\"])"
   ]
  },
  {
   "cell_type": "code",
   "execution_count": 31,
   "metadata": {
    "collapsed": false
   },
   "outputs": [
    {
     "name": "stdout",
     "output_type": "stream",
     "text": [
      "[u'How', u'can', u'I', u'be', u'a', u'good', u'software', u'engineer', u'?']\n",
      "('QID_384999', 0.9501305818557739) [u'How', u'can', u'I', u'be', u'a', u'good', u'software', u'engineer', u'?']\n",
      "('QID_449616', 0.9494233131408691) [u'How', u'can', u'I', u'be', u'a', u'good', u'software', u'engineer', u'?']\n",
      "('QID_717572', 0.9488134980201721) [u'How', u'can', u'I', u'be', u'a', u'good', u'software', u'engineer', u'?']\n",
      "('QID_19818', 0.9455262422561646) [u'How', u'can', u'I', u'be', u'a', u'good', u'software', u'engineer', u'?']\n",
      "('QID_387741', 0.9427506923675537) [u'How', u'can', u'I', u'be', u'a', u'good', u'software', u'engineer', u'?']\n",
      "('QID_627259', 0.9392973780632019) [u'How', u'can', u'I', u'be', u'a', u'good', u'software', u'engineer', u'?']\n",
      "('QID_131300', 0.9286038279533386) [u'How', u'can', u'I', u'be', u'good', u'computer', u'engineer', u'?']\n",
      "('QID_604540', 0.9001113176345825) [u'How', u'can', u'I', u'be', u'good', u'engineer', u'?']\n",
      "('QID_483489', 0.8802008628845215) [u'How', u'can', u'I', u'become', u'a', u'good', u'software', u'developer', u'?']\n",
      "('QID_518024', 0.8670710325241089) [u'How', u'do', u'I', u'become', u'a', u'software', u'engineer', u'?']\n"
     ]
    }
   ],
   "source": [
    "test = \"QID_476440\"\n",
    "print qdict[test]\n",
    "for q in vectors.most_similar([\"QID_476440\"]):\n",
    "    print q, qdict[q[0]]"
   ]
  }
 ],
 "metadata": {
  "anaconda-cloud": {},
  "kernelspec": {
   "display_name": "Python [default]",
   "language": "python",
   "name": "python2"
  },
  "language_info": {
   "codemirror_mode": {
    "name": "ipython",
    "version": 2
   },
   "file_extension": ".py",
   "mimetype": "text/x-python",
   "name": "python",
   "nbconvert_exporter": "python",
   "pygments_lexer": "ipython2",
   "version": "2.7.13"
  }
 },
 "nbformat": 4,
 "nbformat_minor": 1
}
