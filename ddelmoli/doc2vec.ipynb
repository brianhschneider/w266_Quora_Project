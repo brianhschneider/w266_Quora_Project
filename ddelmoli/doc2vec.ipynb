{
 "cells": [
  {
   "cell_type": "code",
   "execution_count": 1,
   "metadata": {
    "collapsed": false
   },
   "outputs": [
    {
     "name": "stdout",
     "output_type": "stream",
     "text": [
      "8\n"
     ]
    }
   ],
   "source": [
    "from gensim import models, corpora, similarities\n",
    "from gensim.models.doc2vec import TaggedDocument, Doc2Vec\n",
    "from nltk.tokenize import TweetTokenizer\n",
    "import pyemd\n",
    "import csv\n",
    "import multiprocessing\n",
    "\n",
    "cores = multiprocessing.cpu_count()\n",
    "print cores"
   ]
  },
  {
   "cell_type": "code",
   "execution_count": 2,
   "metadata": {
    "collapsed": false
   },
   "outputs": [],
   "source": [
    "with open('questions.csv', 'rU') as f:\n",
    "    f.next()\n",
    "    reader = csv.reader(f)\n",
    "    qpairs = list(reader)\n",
    "   \n",
    "tknzr = TweetTokenizer()\n",
    "qcorp = []\n",
    "qdict = {}\n",
    "for qpair in qpairs:\n",
    "    qid = qpair[1]\n",
    "    qwords = tknzr.tokenize(qpair[3])\n",
    "    q = TaggedDocument(words=qwords, tags=[\"QID_\"+str(qid)])\n",
    "    qcorp.append(q)\n",
    "    qdict[\"QID_\"+str(qid)] = qwords\n",
    "    qid = qpair[2]\n",
    "    qwords = tknzr.tokenize(qpair[4])\n",
    "    q = TaggedDocument(words=qwords, tags=[\"QID_\"+str(qid)])\n",
    "    qcorp.append(q)\n",
    "    qdict[\"QID_\"+str(qid)] = qwords"
   ]
  },
  {
   "cell_type": "code",
   "execution_count": 182,
   "metadata": {
    "collapsed": false
   },
   "outputs": [
    {
     "name": "stdout",
     "output_type": "stream",
     "text": [
      "iteration 1\n",
      "iteration 2\n",
      "iteration 3\n",
      "iteration 4\n",
      "iteration 5\n",
      "iteration 6\n",
      "iteration 7\n",
      "iteration 8\n",
      "iteration 9\n",
      "iteration 10\n"
     ]
    }
   ],
   "source": [
    "model = Doc2Vec(size=100, window=5, negative=5, sample=1e-4, min_count=2, workers=cores, alpha=0.025, min_alpha=0.025)\n",
    "model.build_vocab(qcorp)\n",
    "for epoch in range(10):\n",
    "    model.train(qcorp)\n",
    "    model.alpha -= 0.002\n",
    "    model.min_alpha = model.alpha\n",
    "    model.train(qcorp)"
   ]
  },
  {
   "cell_type": "code",
   "execution_count": 183,
   "metadata": {
    "collapsed": true
   },
   "outputs": [],
   "source": [
    "model.save(\"doc2vec.model\")"
   ]
  },
  {
   "cell_type": "code",
   "execution_count": 4,
   "metadata": {
    "collapsed": false
   },
   "outputs": [],
   "source": [
    "model = Doc2Vec.load(\"doc2vec.model\")"
   ]
  },
  {
   "cell_type": "code",
   "execution_count": 5,
   "metadata": {
    "collapsed": true
   },
   "outputs": [],
   "source": [
    "vectors = model.docvecs"
   ]
  },
  {
   "cell_type": "code",
   "execution_count": 6,
   "metadata": {
    "collapsed": false
   },
   "outputs": [],
   "source": [
    "for i in range(len(qpairs)):\n",
    "    qid1 = \"QID_\"+str(qpairs[i][1])\n",
    "    qid2 = \"QID_\"+str(qpairs[i][2])\n",
    "    score = vectors.similarity(qid1, qid2)\n",
    "    qpairs[i].extend([score])"
   ]
  },
  {
   "cell_type": "code",
   "execution_count": 9,
   "metadata": {
    "collapsed": false
   },
   "outputs": [
    {
     "name": "stdout",
     "output_type": "stream",
     "text": [
      "['0', '1', '2', 'What is the step by step guide to invest in share market in india?', 'What is the step by step guide to invest in share market?', '0', 0.82047855664681113]\n",
      "['1', '3', '4', 'What is the story of Kohinoor (Koh-i-Noor) Diamond?', 'What would happen if the Indian government stole the Kohinoor (Koh-i-Noor) diamond back?', '0', 0.45048160764946837]\n",
      "['2', '5', '6', 'How can I increase the speed of my internet connection while using a VPN?', 'How can Internet speed be increased by hacking through DNS?', '0', 0.34205746999516351]\n",
      "['3', '7', '8', 'Why am I mentally very lonely? How can I solve it?', 'Find the remainder when [math]23^{24}[/math] is divided by 24,23?', '0', 0.25290592385833743]\n",
      "['4', '9', '10', 'Which one dissolve in water quikly sugar, salt, methane and carbon di oxide?', 'Which fish would survive in salt water?', '0', 0.59393453045042799]\n",
      "['5', '11', '12', 'Astrology: I am a Capricorn Sun Cap moon and cap rising...what does that say about me?', \"I'm a triple Capricorn (Sun, Moon and ascendant in Capricorn) What does this say about me?\", '1', 0.55847766389397435]\n",
      "['6', '13', '14', 'Should I buy tiago?', 'What keeps childern active and far from phone and video games?', '0', 0.28247269817123816]\n",
      "['7', '15', '16', 'How can I be a good geologist?', 'What should I do to be a great geologist?', '1', 0.75545494211895936]\n",
      "['8', '17', '18', 'When do you use \\xe3\\x82\\xb7 instead of \\xe3\\x81\\x97?', 'When do you use \"&\" instead of \"and\"?', '0', 0.5996072957740648]\n",
      "['9', '19', '20', 'Motorola (company): Can I hack my Charter Motorolla DCX3400?', 'How do I hack Motorola DCX3400 for free internet?', '0', 0.47662424144987875]\n",
      "['10', '21', '22', 'Method to find separation of slits using fresnel biprism?', 'What are some of the things technicians can tell about the durability and reliability of Laptops and its components?', '0', 0.28811301444450949]\n",
      "['11', '23', '24', 'How do I read and find my YouTube comments?', 'How can I see all my Youtube comments?', '1', 0.42930403945163281]\n",
      "['12', '25', '26', 'What can make Physics easy to learn?', 'How can you make physics easy to learn?', '1', 0.82458992681170784]\n",
      "['13', '27', '28', 'What was your first sexual experience like?', 'What was your first sexual experience?', '1', 0.907817720452472]\n",
      "['14', '29', '30', 'What are the laws to change your status from a student visa to a green card in the US, how do they compare to the immigration laws in Canada?', 'What are the laws to change your status from a student visa to a green card in the US? How do they compare to the immigration laws in Japan?', '0', 0.88904802336060385]\n",
      "['15', '31', '32', 'What would a Trump presidency mean for current international master\\xe2\\x80\\x99s students on an F1 visa?', 'How will a Trump presidency affect the students presently in US or planning to study in US?', '1', 0.45582643424643277]\n",
      "['16', '33', '34', 'What does manipulation mean?', 'What does manipulation means?', '1', 0.90005034302275666]\n",
      "['17', '35', '36', 'Why do girls want to be friends with the guy they reject?', 'How do guys feel after rejecting a girl?', '0', 0.41485986910434236]\n",
      "['18', '37', '38', 'Why are so many Quora users posting questions that are readily answered on Google?', 'Why do people ask Quora questions which can be answered easily by Google?', '1', 0.74286792890782816]\n",
      "['19', '39', '40', 'Which is the best digital marketing institution in banglore?', 'Which is the best digital marketing institute in Pune?', '0', 0.80141488060118138]\n",
      "['20', '41', '42', 'Why do rockets look white?', 'Why are rockets and boosters painted white?', '1', 0.54716742555193043]\n",
      "['21', '43', '44', \"What's causing someone to be jealous?\", 'What can I do to avoid being jealous of someone?', '0', 0.38271039988162425]\n",
      "['22', '45', '46', 'What are the questions should not ask on Quora?', 'Which question should I ask on Quora?', '0', 0.72831000058570738]\n",
      "['23', '47', '48', 'How much is 30 kV in HP?', 'Where can I find a conversion chart for CC to horsepower?', '0', 0.17593151988773878]\n",
      "['24', '49', '50', 'What does it mean that every time I look at the clock the numbers are the same?', 'How many times a day do a clock\\xe2\\x80\\x99s hands overlap?', '0', 0.28205445659126327]\n"
     ]
    }
   ],
   "source": [
    "for i in range(25):\n",
    "    print qpairs[i]"
   ]
  },
  {
   "cell_type": "code",
   "execution_count": 187,
   "metadata": {
    "collapsed": false
   },
   "outputs": [],
   "source": [
    "wordvectors = model.wv"
   ]
  },
  {
   "cell_type": "code",
   "execution_count": 193,
   "metadata": {
    "collapsed": false
   },
   "outputs": [
    {
     "name": "stdout",
     "output_type": "stream",
     "text": [
      "[(u'IAS', 0.8955783247947693), (u'CAT', 0.843267560005188), (u'GATE', 0.8333038091659546), (u'CSE', 0.8325021266937256), (u'exams', 0.8290932178497314), (u'IIT', 0.8272045850753784), (u'SSC', 0.8266948461532593), (u'exam', 0.8232311010360718), (u'graduation', 0.8177750110626221), (u'college', 0.814316987991333)]\n"
     ]
    }
   ],
   "source": [
    "print wordvectors.most_similar([\"UPSC\"])"
   ]
  },
  {
   "cell_type": "code",
   "execution_count": 189,
   "metadata": {
    "collapsed": false
   },
   "outputs": [
    {
     "name": "stdout",
     "output_type": "stream",
     "text": [
      "TaggedDocument([u'How', u'can', u'I', u'be', u'a', u'good', u'geologist', u'?'], ['QID_15'])\n",
      "('QID_149134', 0.7738628387451172) [u'How', u'can', u'I', u'be', u'good', u'programer', u'?']\n",
      "('QID_627259', 0.7621285319328308) [u'How', u'can', u'I', u'be', u'a', u'good', u'software', u'engineer', u'?']\n",
      "('QID_16', 0.7554548978805542) [u'What', u'should', u'I', u'do', u'to', u'be', u'a', u'great', u'geologist', u'?']\n",
      "('QID_604540', 0.7509888410568237) [u'How', u'can', u'I', u'be', u'good', u'engineer', u'?']\n",
      "('QID_71714', 0.7502573728561401) [u'How', u'can', u'I', u'be', u'a', u'good', u'chess', u'player', u'?']\n",
      "('QID_410466', 0.7500404119491577) [u'How', u'can', u'I', u'be', u'a', u'good', u'husband', u'for', u'my', u'wife', u'?']\n",
      "('QID_557277', 0.7480751872062683) [u'How', u'can', u'I', u'be', u'good', u'programer', u'?']\n",
      "('QID_588867', 0.7438502907752991) [u'How', u'can', u'I', u'be', u'a', u'good', u'husband', u'for', u'my', u'wife', u'?']\n",
      "('QID_384999', 0.7418942451477051) [u'How', u'can', u'I', u'be', u'a', u'good', u'software', u'engineer', u'?']\n",
      "('QID_476440', 0.7409477233886719) [u'How', u'can', u'I', u'be', u'a', u'good', u'software', u'engineer', u'?']\n"
     ]
    }
   ],
   "source": [
    "test = \"QID_15\"\n",
    "tid = int(test[4:]) - 1\n",
    "print qcorp[tid]\n",
    "for q in vectors.most_similar([\"QID_15\"]):\n",
    "    print q, qdict[q[0]]"
   ]
  }
 ],
 "metadata": {
  "anaconda-cloud": {},
  "kernelspec": {
   "display_name": "Python [default]",
   "language": "python",
   "name": "python2"
  },
  "language_info": {
   "codemirror_mode": {
    "name": "ipython",
    "version": 2
   },
   "file_extension": ".py",
   "mimetype": "text/x-python",
   "name": "python",
   "nbconvert_exporter": "python",
   "pygments_lexer": "ipython2",
   "version": "2.7.13"
  }
 },
 "nbformat": 4,
 "nbformat_minor": 1
}
