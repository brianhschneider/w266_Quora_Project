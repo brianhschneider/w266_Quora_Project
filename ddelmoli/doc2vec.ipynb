{
 "cells": [
  {
   "cell_type": "code",
   "execution_count": 180,
   "metadata": {
    "collapsed": false
   },
   "outputs": [
    {
     "name": "stdout",
     "output_type": "stream",
     "text": [
      "8\n"
     ]
    }
   ],
   "source": [
    "from gensim import models, corpora, similarities\n",
    "from gensim.models.doc2vec import TaggedDocument, Doc2Vec\n",
    "from nltk.tokenize import TweetTokenizer\n",
    "import csv\n",
    "import multiprocessing\n",
    "\n",
    "cores = multiprocessing.cpu_count()\n",
    "print cores"
   ]
  },
  {
   "cell_type": "code",
   "execution_count": 181,
   "metadata": {
    "collapsed": false
   },
   "outputs": [],
   "source": [
    "with open('questions.csv', 'rU') as f:\n",
    "    f.next()\n",
    "    reader = csv.reader(f)\n",
    "    qpairs = list(reader)\n",
    "   \n",
    "tknzr = TweetTokenizer()\n",
    "qcorp = []\n",
    "qdict = {}\n",
    "for qpair in qpairs:\n",
    "    qid = qpair[1]\n",
    "    qwords = tknzr.tokenize(qpair[3])\n",
    "    q = TaggedDocument(words=qwords, tags=[\"QID_\"+str(qid)])\n",
    "    qcorp.append(q)\n",
    "    qdict[\"QID_\"+str(qid)] = qwords\n",
    "    qid = qpair[2]\n",
    "    qwords = tknzr.tokenize(qpair[4])\n",
    "    q = TaggedDocument(words=qwords, tags=[\"QID_\"+str(qid)])\n",
    "    qcorp.append(q)\n",
    "    qdict[\"QID_\"+str(qid)] = qwords"
   ]
  },
  {
   "cell_type": "code",
   "execution_count": 182,
   "metadata": {
    "collapsed": false
   },
   "outputs": [
    {
     "name": "stdout",
     "output_type": "stream",
     "text": [
      "iteration 1\n",
      "iteration 2\n",
      "iteration 3\n",
      "iteration 4\n",
      "iteration 5\n",
      "iteration 6\n",
      "iteration 7\n",
      "iteration 8\n",
      "iteration 9\n",
      "iteration 10\n"
     ]
    }
   ],
   "source": [
    "model = Doc2Vec(size=100, window=5, negative=5, sample=1e-4, min_count=2, workers=cores, alpha=0.025, min_alpha=0.025)\n",
    "model.build_vocab(qcorp)\n",
    "for epoch in range(10):\n",
    "    print \"iteration \"+str(epoch+1)\n",
    "    model.train(qcorp)\n",
    "    model.alpha -= 0.002\n",
    "    model.min_alpha = model.alpha\n",
    "    model.train(qcorp)"
   ]
  },
  {
   "cell_type": "code",
   "execution_count": 183,
   "metadata": {
    "collapsed": true
   },
   "outputs": [],
   "source": [
    "model.save(\"doc2vec.model\")"
   ]
  },
  {
   "cell_type": "code",
   "execution_count": 184,
   "metadata": {
    "collapsed": true
   },
   "outputs": [],
   "source": [
    "vectors = model.docvecs"
   ]
  },
  {
   "cell_type": "code",
   "execution_count": 185,
   "metadata": {
    "collapsed": false
   },
   "outputs": [],
   "source": [
    "for i in range(len(qpairs)):\n",
    "    qid1 = \"QID_\"+str(qpairs[i][1])\n",
    "    qid2 = \"QID_\"+str(qpairs[i][2])\n",
    "    score = vectors.similarity(qid1, qid2)\n",
    "    qpairs[i].extend([score])"
   ]
  },
  {
   "cell_type": "code",
   "execution_count": 190,
   "metadata": {
    "collapsed": false
   },
   "outputs": [
    {
     "name": "stdout",
     "output_type": "stream",
     "text": [
      "['25', '51', '52', 'What are some tips on making it through the job interview process at Medicines?', 'What are some tips on making it through the job interview process at Foundation Medicine?', '0', 0.86943831944632222]\n",
      "['26', '53', '54', 'What is web application?', 'What is the web application framework?', '0', 0.95722550998466083]\n",
      "['27', '55', '56', 'Does society place too much importance on sports?', 'How do sports contribute to the society?', '0', 0.32875073729150761]\n",
      "['28', '57', '58', 'What is best way to make money online?', 'What is best way to ask for money online?', '0', 0.74854103355402346]\n",
      "['29', '59', '60', 'How should I prepare for CA final law?', 'How one should know that he/she completely prepare for CA final exam?', '1', 0.20658843522798939]\n",
      "['30', '61', '62', \"What's one thing you would like to do better?\", \"What's one thing you do despite knowing better?\", '0', 0.55553240180896801]\n",
      "['31', '63', '64', 'What are some special cares for someone with a nose that gets stuffy during the night?', 'How can I keep my nose from getting stuffy at night?', '1', 0.60051345317891558]\n",
      "['32', '65', '66', 'What Game of Thrones villain would be the most likely to give you mercy?', 'What Game of Thrones villain would you most like to be at the mercy of?', '1', 0.53612438693246367]\n",
      "['33', '67', '68', 'Does the United States government still blacklist (employment, etc.) some United States citizens because their political views?', 'How is the average speed of gas molecules determined?', '0', 0.035040090112668058]\n",
      "['34', '69', '70', 'What is the best travel website in spain?', 'What is the best travel website?', '0', 0.88197293071838478]\n",
      "['35', '71', '72', 'Why do some people think Obama will try to take their guns away?', 'Has there been a gun control initiative to take away guns people already own?', '0', 0.23035225689619507]\n",
      "['36', '73', '74', \"I'm a 19-year-old. How can I improve my skills or what should I do to become an entrepreneur in the next few years?\", 'I am a 19 year old guy. How can I become a billionaire in the next 10 years?', '0', 0.33356564500705121]\n",
      "['37', '75', '76', 'When a girlfriend asks her boyfriend \"Why did you choose me? What makes you want to be with me?\", what should one reply to her?', 'My girlfriend said that we should end this because she is confused about her feelings for me. I wished her well and disconnected. Should I call her and ask her if she wants to get back together?', '0', 0.26182838886224608]\n",
      "['38', '77', '78', 'How do we prepare for UPSC?', 'How do I prepare for civil service?', '1', 0.69296991372712857]\n",
      "['39', '79', '80', 'What is the stall speed and AOA of an f-14 with wings fully swept back?', 'Why did aircraft stop using variable-sweep wings, like those on an F-14?', '0', 0.39713089184902334]\n",
      "['40', '81', '82', 'Why do Slavs squat?', 'Will squats make my legs thicker?', '0', 0.57415677828249279]\n",
      "['41', '83', '84', 'When can I expect my Cognizant confirmation mail?', 'When can I expect Cognizant confirmation mail?', '0', 0.94749631240867449]\n",
      "['42', '85', '86', 'Can I make 50,000 a month by day trading?', 'Can I make 30,000 a month by day trading?', '0', 0.90968679543364128]\n",
      "['43', '87', '88', 'Is being a good kid and not being a rebel worth it in the long run?', 'Is being bored good for a kid?', '0', 0.44782150324593062]\n",
      "['44', '89', '90', 'What universities does Rexnord recruit new grads from? What majors are they looking for?', 'What universities does B&G Foods recruit new grads from? What majors are they looking for?', '0', 0.82979567952822753]\n",
      "['45', '91', '92', 'What is the quickest way to increase Instagram followers?', 'How can we increase our number of Instagram followers?', '0', 0.24879381688833899]\n",
      "['46', '93', '94', 'How did Darth Vader fought Darth Maul in Star Wars Legends?', 'Does Quora have a character limit for profile descriptions?', '0', 0.16345484409743272]\n",
      "['47', '95', '96', 'What are the stages of breaking up between couple? I mean, what happens after the breaking up emotionally whether its a male or female?', 'Who is affected more by a breakup, the boy or the girl?', '0', 0.061669591465232695]\n",
      "['48', '97', '98', 'What are some examples of products that can be make from crude oil?', 'What are some of the products made from crude oil?', '1', 0.61527488574041223]\n",
      "['49', '99', '100', 'How do I make friends.', 'How to make friends ?', '1', 0.9088203453409891]\n"
     ]
    }
   ],
   "source": [
    "for i in range(25,50):\n",
    "    print qpairs[i]"
   ]
  },
  {
   "cell_type": "code",
   "execution_count": 187,
   "metadata": {
    "collapsed": false
   },
   "outputs": [],
   "source": [
    "wordvectors = model.wv"
   ]
  },
  {
   "cell_type": "code",
   "execution_count": 192,
   "metadata": {
    "collapsed": false
   },
   "outputs": [
    {
     "name": "stdout",
     "output_type": "stream",
     "text": [
      "[(u'know', 0.9086978435516357), (u'say', 0.9039154052734375), (u'see', 0.899399995803833), (u'forget', 0.8749495148658752), (u'ask', 0.8747535943984985), (u'talk', 0.8610190153121948), (u'understand', 0.8600683212280273), (u'make', 0.8573578596115112), (u'find', 0.8545108437538147), (u'read', 0.8426806926727295)]\n"
     ]
    }
   ],
   "source": [
    "print wordvectors.most_similar([\"tell\"])"
   ]
  },
  {
   "cell_type": "code",
   "execution_count": 189,
   "metadata": {
    "collapsed": false
   },
   "outputs": [
    {
     "name": "stdout",
     "output_type": "stream",
     "text": [
      "TaggedDocument([u'How', u'can', u'I', u'be', u'a', u'good', u'geologist', u'?'], ['QID_15'])\n",
      "('QID_149134', 0.7738628387451172) [u'How', u'can', u'I', u'be', u'good', u'programer', u'?']\n",
      "('QID_627259', 0.7621285319328308) [u'How', u'can', u'I', u'be', u'a', u'good', u'software', u'engineer', u'?']\n",
      "('QID_16', 0.7554548978805542) [u'What', u'should', u'I', u'do', u'to', u'be', u'a', u'great', u'geologist', u'?']\n",
      "('QID_604540', 0.7509888410568237) [u'How', u'can', u'I', u'be', u'good', u'engineer', u'?']\n",
      "('QID_71714', 0.7502573728561401) [u'How', u'can', u'I', u'be', u'a', u'good', u'chess', u'player', u'?']\n",
      "('QID_410466', 0.7500404119491577) [u'How', u'can', u'I', u'be', u'a', u'good', u'husband', u'for', u'my', u'wife', u'?']\n",
      "('QID_557277', 0.7480751872062683) [u'How', u'can', u'I', u'be', u'good', u'programer', u'?']\n",
      "('QID_588867', 0.7438502907752991) [u'How', u'can', u'I', u'be', u'a', u'good', u'husband', u'for', u'my', u'wife', u'?']\n",
      "('QID_384999', 0.7418942451477051) [u'How', u'can', u'I', u'be', u'a', u'good', u'software', u'engineer', u'?']\n",
      "('QID_476440', 0.7409477233886719) [u'How', u'can', u'I', u'be', u'a', u'good', u'software', u'engineer', u'?']\n"
     ]
    }
   ],
   "source": [
    "test = \"QID_15\"\n",
    "tid = int(test[4:]) - 1\n",
    "print qcorp[tid]\n",
    "for q in vectors.most_similar([\"QID_15\"]):\n",
    "    print q, qdict[q[0]]"
   ]
  }
 ],
 "metadata": {
  "anaconda-cloud": {},
  "kernelspec": {
   "display_name": "Python [default]",
   "language": "python",
   "name": "python2"
  },
  "language_info": {
   "codemirror_mode": {
    "name": "ipython",
    "version": 2
   },
   "file_extension": ".py",
   "mimetype": "text/x-python",
   "name": "python",
   "nbconvert_exporter": "python",
   "pygments_lexer": "ipython2",
   "version": "2.7.13"
  }
 },
 "nbformat": 4,
 "nbformat_minor": 1
}
