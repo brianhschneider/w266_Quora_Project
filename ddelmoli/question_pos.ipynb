{
 "cells": [
  {
   "cell_type": "code",
   "execution_count": 17,
   "metadata": {
    "collapsed": true
   },
   "outputs": [],
   "source": [
    "import nltk            # natural language tool kit\n",
    "import numpy as np     # support for large data structures\n",
    "import pandas as pd    # data structure support\n",
    "import re\n",
    "\n",
    "from importlib import reload \n",
    "\n",
    "# POS tagging functions\n",
    "import pos3\n",
    "\n",
    "# Load the Penn Treebank Corpus which will serve as our training set.\n",
    "corpus = nltk.corpus.ptb"
   ]
  },
  {
   "cell_type": "code",
   "execution_count": 208,
   "metadata": {},
   "outputs": [
    {
     "data": {
      "text/html": [
       "<div>\n",
       "<style>\n",
       "    .dataframe thead tr:only-child th {\n",
       "        text-align: right;\n",
       "    }\n",
       "\n",
       "    .dataframe thead th {\n",
       "        text-align: left;\n",
       "    }\n",
       "\n",
       "    .dataframe tbody tr th {\n",
       "        vertical-align: top;\n",
       "    }\n",
       "</style>\n",
       "<table border=\"1\" class=\"dataframe\">\n",
       "  <thead>\n",
       "    <tr style=\"text-align: right;\">\n",
       "      <th></th>\n",
       "      <th>id</th>\n",
       "      <th>qid1</th>\n",
       "      <th>qid2</th>\n",
       "      <th>question1</th>\n",
       "      <th>question2</th>\n",
       "      <th>is_duplicate</th>\n",
       "    </tr>\n",
       "  </thead>\n",
       "  <tbody>\n",
       "    <tr>\n",
       "      <th>0</th>\n",
       "      <td>57674</td>\n",
       "      <td>5725</td>\n",
       "      <td>38477</td>\n",
       "      <td>How can I get a list of my Gmail accounts?</td>\n",
       "      <td>How do I find my list of GMail addresses?</td>\n",
       "      <td>1</td>\n",
       "    </tr>\n",
       "    <tr>\n",
       "      <th>1</th>\n",
       "      <td>185568</td>\n",
       "      <td>283254</td>\n",
       "      <td>283255</td>\n",
       "      <td>What are the symptoms of child abuse?</td>\n",
       "      <td>What are signs of child abuse?</td>\n",
       "      <td>1</td>\n",
       "    </tr>\n",
       "    <tr>\n",
       "      <th>2</th>\n",
       "      <td>359111</td>\n",
       "      <td>400936</td>\n",
       "      <td>488715</td>\n",
       "      <td>What are some examples of selfishness?</td>\n",
       "      <td>Do we all occasionally tend to emotional masoc...</td>\n",
       "      <td>0</td>\n",
       "    </tr>\n",
       "    <tr>\n",
       "      <th>3</th>\n",
       "      <td>204216</td>\n",
       "      <td>281934</td>\n",
       "      <td>307050</td>\n",
       "      <td>Is Qnet a scam?</td>\n",
       "      <td>Where is the registered office of Qnet in Mumbai?</td>\n",
       "      <td>0</td>\n",
       "    </tr>\n",
       "    <tr>\n",
       "      <th>4</th>\n",
       "      <td>5649</td>\n",
       "      <td>11103</td>\n",
       "      <td>11104</td>\n",
       "      <td>What do Americans think about Donald Trump?</td>\n",
       "      <td>What do you think about Donald Trump pick?</td>\n",
       "      <td>1</td>\n",
       "    </tr>\n",
       "  </tbody>\n",
       "</table>\n",
       "</div>"
      ],
      "text/plain": [
       "       id    qid1    qid2                                    question1  \\\n",
       "0   57674    5725   38477   How can I get a list of my Gmail accounts?   \n",
       "1  185568  283254  283255        What are the symptoms of child abuse?   \n",
       "2  359111  400936  488715       What are some examples of selfishness?   \n",
       "3  204216  281934  307050                              Is Qnet a scam?   \n",
       "4    5649   11103   11104  What do Americans think about Donald Trump?   \n",
       "\n",
       "                                           question2  is_duplicate  \n",
       "0          How do I find my list of GMail addresses?             1  \n",
       "1                     What are signs of child abuse?             1  \n",
       "2  Do we all occasionally tend to emotional masoc...             0  \n",
       "3  Where is the registered office of Qnet in Mumbai?             0  \n",
       "4         What do you think about Donald Trump pick?             1  "
      ]
     },
     "execution_count": 208,
     "metadata": {},
     "output_type": "execute_result"
    }
   ],
   "source": [
    "train = pd.read_csv('Data/train_split.csv')\n",
    "train_lite = pd.read_csv('Data/train_lite.csv')\n",
    "dev = pd.read_csv('Data/dev_split.csv')\n",
    "del train[\"Unnamed: 0\"]\n",
    "del dev[\"Unnamed: 0\"]\n",
    "del train_lite[\"Unnamed: 0\"]\n",
    "del train_lite[\"Unnamed: 0.1\"]"
   ]
  },
  {
   "cell_type": "code",
   "execution_count": 124,
   "metadata": {
    "collapsed": true
   },
   "outputs": [],
   "source": [
    "reload(pos3)\n",
    "hmm = pos3.HMM()\n",
    "for sentence in corpus.tagged_sents():\n",
    "    hmm.update_counts(sentence)\n",
    "hmm.compute_logprobs()"
   ]
  },
  {
   "cell_type": "code",
   "execution_count": 200,
   "metadata": {
    "collapsed": true
   },
   "outputs": [],
   "source": [
    "def tags_as_string(str):\n",
    "    p = re.compile(\"[^A-Za-z ]\")\n",
    "    s = p.sub(\"\", str).split()+[\"?\"]\n",
    "    r = \" \".join(hmm.viterbi(s))\n",
    "    return r"
   ]
  },
  {
   "cell_type": "code",
   "execution_count": 196,
   "metadata": {
    "collapsed": true
   },
   "outputs": [],
   "source": [
    "train_lite[\"question1_pos\"] = train_lite[\"question1\"].apply(tags_as_string)\n",
    "train_lite[\"question2_pos\"] = train_lite[\"question2\"].apply(tags_as_string)\n",
    "train_lite.to_pickle(\"Data/train_lite.df.pkl.gz\")"
   ]
  },
  {
   "cell_type": "code",
   "execution_count": null,
   "metadata": {
    "collapsed": true
   },
   "outputs": [],
   "source": [
    "dev[\"question1_pos\"] = dev[\"question1\"].apply(tags_as_string)\n",
    "dev[\"question2_pos\"] = dev[\"question2\"].apply(tags_as_string)\n",
    "dev.to_pickle(\"Data/train_lite.df.pkl.gz\")"
   ]
  },
  {
   "cell_type": "code",
   "execution_count": null,
   "metadata": {
    "collapsed": true
   },
   "outputs": [],
   "source": [
    "train[\"question1_pos\"] = train[\"question1\"].apply(tags_as_string)\n",
    "train[\"question2_pos\"] = train[\"question2\"].apply(tags_as_string)\n",
    "train.to_pickle(\"Data/train_lite.df.pkl.gz\")"
   ]
  }
 ],
 "metadata": {
  "kernelspec": {
   "display_name": "Python 3",
   "language": "python",
   "name": "python3"
  },
  "language_info": {
   "codemirror_mode": {
    "name": "ipython",
    "version": 3
   },
   "file_extension": ".py",
   "mimetype": "text/x-python",
   "name": "python",
   "nbconvert_exporter": "python",
   "pygments_lexer": "ipython3",
   "version": "3.5.3"
  }
 },
 "nbformat": 4,
 "nbformat_minor": 2
}
