{
 "cells": [
  {
   "cell_type": "code",
   "execution_count": 1,
   "metadata": {
    "collapsed": true
   },
   "outputs": [],
   "source": [
    "import nltk            # natural language tool kit\n",
    "import numpy as np     # support for large data structures\n",
    "import pandas as pd    # data structure support\n",
    "import re\n",
    "import time\n",
    "\n",
    "from importlib import reload \n",
    "\n",
    "# POS tagging functions\n",
    "import pos3\n",
    "\n",
    "# Load the Penn Treebank Corpus which will serve as our training set.\n",
    "corpus = nltk.corpus.ptb"
   ]
  },
  {
   "cell_type": "code",
   "execution_count": 2,
   "metadata": {},
   "outputs": [],
   "source": [
    "train = pd.read_csv('Data/train_split.csv')\n",
    "train_lite = pd.read_csv('Data/train_lite.csv')\n",
    "dev = pd.read_csv('Data/dev_split.csv')\n",
    "del train[\"Unnamed: 0\"]\n",
    "del dev[\"Unnamed: 0\"]\n",
    "del train_lite[\"Unnamed: 0\"]\n",
    "del train_lite[\"Unnamed: 0.1\"]"
   ]
  },
  {
   "cell_type": "code",
   "execution_count": 3,
   "metadata": {
    "collapsed": true
   },
   "outputs": [],
   "source": [
    "reload(pos3)\n",
    "hmm = pos3.HMM()\n",
    "for sentence in corpus.tagged_sents():\n",
    "    hmm.update_counts(sentence)\n",
    "hmm.compute_logprobs()"
   ]
  },
  {
   "cell_type": "code",
   "execution_count": 4,
   "metadata": {
    "collapsed": true
   },
   "outputs": [],
   "source": [
    "def tags_as_string(p_sent):\n",
    "    p = re.compile(\"[^A-Za-z ]\")\n",
    "    s = p.sub(\"\", p_sent).split()+[\"?\"]\n",
    "    r = \" \".join(hmm.viterbi(s))\n",
    "    return r"
   ]
  },
  {
   "cell_type": "code",
   "execution_count": 5,
   "metadata": {
    "collapsed": true
   },
   "outputs": [],
   "source": [
    "def pretty_timedelta(fmt=\"%d:%02d:%02d\", since=None, until=None):\n",
    "    \"\"\"Pretty-print a timedelta, using the given format string.\"\"\"\n",
    "    since = since or time.time()\n",
    "    until = until or time.time()\n",
    "    delta_s = until - since\n",
    "    hours, remainder = divmod(delta_s, 3600)\n",
    "    minutes, seconds = divmod(remainder, 60)\n",
    "    return fmt % (hours, minutes, seconds)"
   ]
  },
  {
   "cell_type": "code",
   "execution_count": 10,
   "metadata": {},
   "outputs": [
    {
     "name": "stdout",
     "output_type": "stream",
     "text": [
      "Starting  Data/train_lite0.df.pkl.gz 0 1000 0:00:00\n"
     ]
    },
    {
     "name": "stderr",
     "output_type": "stream",
     "text": [
      "/Users/delmolino/anaconda2/envs/py3/lib/python3.5/site-packages/ipykernel_launcher.py:8: SettingWithCopyWarning: \n",
      "A value is trying to be set on a copy of a slice from a DataFrame.\n",
      "Try using .loc[row_indexer,col_indexer] = value instead\n",
      "\n",
      "See the caveats in the documentation: http://pandas.pydata.org/pandas-docs/stable/indexing.html#indexing-view-versus-copy\n",
      "  \n",
      "/Users/delmolino/anaconda2/envs/py3/lib/python3.5/site-packages/ipykernel_launcher.py:9: SettingWithCopyWarning: \n",
      "A value is trying to be set on a copy of a slice from a DataFrame.\n",
      "Try using .loc[row_indexer,col_indexer] = value instead\n",
      "\n",
      "See the caveats in the documentation: http://pandas.pydata.org/pandas-docs/stable/indexing.html#indexing-view-versus-copy\n",
      "  if __name__ == '__main__':\n"
     ]
    },
    {
     "name": "stdout",
     "output_type": "stream",
     "text": [
      "Finished  Data/train_lite0.df.pkl.gz 0 1000 0:01:35\n",
      "Starting  Data/train_lite1000.df.pkl.gz 1000 2000 0:01:35\n",
      "Finished  Data/train_lite1000.df.pkl.gz 1000 2000 0:03:08\n",
      "Starting  Data/train_lite2000.df.pkl.gz 2000 3000 0:03:08\n",
      "Finished  Data/train_lite2000.df.pkl.gz 2000 3000 0:04:47\n",
      "Starting  Data/train_lite3000.df.pkl.gz 3000 4000 0:04:47\n",
      "Finished  Data/train_lite3000.df.pkl.gz 3000 4000 0:06:23\n",
      "Starting  Data/train_lite4000.df.pkl.gz 4000 5000 0:06:23\n",
      "Finished  Data/train_lite4000.df.pkl.gz 4000 5000 0:07:56\n",
      "Starting  Data/train_lite5000.df.pkl.gz 5000 6000 0:07:56\n",
      "Finished  Data/train_lite5000.df.pkl.gz 5000 6000 0:09:29\n",
      "Starting  Data/train_lite6000.df.pkl.gz 6000 7000 0:09:29\n",
      "Finished  Data/train_lite6000.df.pkl.gz 6000 7000 0:11:04\n",
      "Starting  Data/train_lite7000.df.pkl.gz 7000 8000 0:11:04\n",
      "Finished  Data/train_lite7000.df.pkl.gz 7000 8000 0:12:39\n",
      "Starting  Data/train_lite8000.df.pkl.gz 8000 9000 0:12:39\n",
      "Finished  Data/train_lite8000.df.pkl.gz 8000 9000 0:14:36\n",
      "Starting  Data/train_lite9000.df.pkl.gz 9000 10000 0:14:36\n",
      "Finished  Data/train_lite9000.df.pkl.gz 9000 10000 0:16:24\n"
     ]
    }
   ],
   "source": [
    "t0 = time.time()\n",
    "nrows = train_lite.shape[0]\n",
    "i = 0\n",
    "while i < nrows:\n",
    "    x = train_lite[i:min(i+1000,nrows)]\n",
    "    f = \"Data/train_lite\"+str(i)+\".df.pkl.gz\"\n",
    "    print(\"Starting \", f, i, min(i+1000, nrows), pretty_timedelta(since=t0))\n",
    "    x[\"question1_pos\"] = x[\"question1\"].apply(tags_as_string)\n",
    "    x[\"question2_pos\"] = x[\"question2\"].apply(tags_as_string)\n",
    "    x.to_pickle(f)\n",
    "    print(\"Finished \", f, i, min(i+1000, nrows), pretty_timedelta(since=t0))\n",
    "    i += 1000"
   ]
  },
  {
   "cell_type": "code",
   "execution_count": 14,
   "metadata": {},
   "outputs": [
    {
     "data": {
      "text/html": [
       "<div>\n",
       "<style>\n",
       "    .dataframe thead tr:only-child th {\n",
       "        text-align: right;\n",
       "    }\n",
       "\n",
       "    .dataframe thead th {\n",
       "        text-align: left;\n",
       "    }\n",
       "\n",
       "    .dataframe tbody tr th {\n",
       "        vertical-align: top;\n",
       "    }\n",
       "</style>\n",
       "<table border=\"1\" class=\"dataframe\">\n",
       "  <thead>\n",
       "    <tr style=\"text-align: right;\">\n",
       "      <th></th>\n",
       "      <th>id</th>\n",
       "      <th>qid1</th>\n",
       "      <th>qid2</th>\n",
       "      <th>question1</th>\n",
       "      <th>question2</th>\n",
       "      <th>is_duplicate</th>\n",
       "      <th>question1_pos</th>\n",
       "      <th>question2_pos</th>\n",
       "    </tr>\n",
       "  </thead>\n",
       "  <tbody>\n",
       "    <tr>\n",
       "      <th>8000</th>\n",
       "      <td>177687</td>\n",
       "      <td>1919</td>\n",
       "      <td>240809</td>\n",
       "      <td>How could I gain weight in a healthy way?</td>\n",
       "      <td>What are the healthy ways of gaining weight an...</td>\n",
       "      <td>1</td>\n",
       "      <td>WRB MD PRP VB NN IN DT JJ NN .</td>\n",
       "      <td>WP VBP DT JJ NNS IN DT NN CC NNS .</td>\n",
       "    </tr>\n",
       "    <tr>\n",
       "      <th>8001</th>\n",
       "      <td>106511</td>\n",
       "      <td>175436</td>\n",
       "      <td>175437</td>\n",
       "      <td>Which is a suitable inpatient drug and alcohol...</td>\n",
       "      <td>Which is a suitable inpatient drug and alcohol...</td>\n",
       "      <td>0</td>\n",
       "      <td>PRP VBZ DT JJ NN NN CC NN IN NN IN NNP NNP . .</td>\n",
       "      <td>PRP VBZ DT JJ NN NN CC NN IN NN IN NNP NNP . .</td>\n",
       "    </tr>\n",
       "    <tr>\n",
       "      <th>8002</th>\n",
       "      <td>346033</td>\n",
       "      <td>11511</td>\n",
       "      <td>38523</td>\n",
       "      <td>What open source project did you start contrib...</td>\n",
       "      <td>How can I contribute to open source development?</td>\n",
       "      <td>1</td>\n",
       "      <td>WP JJ NN NN VBD PRP VBP VBG IN .</td>\n",
       "      <td>WRB MD PRP VBP TO VB NN NN .</td>\n",
       "    </tr>\n",
       "    <tr>\n",
       "      <th>8003</th>\n",
       "      <td>352045</td>\n",
       "      <td>480927</td>\n",
       "      <td>480928</td>\n",
       "      <td>Why don't boxers fight in cages?</td>\n",
       "      <td>What are shanty towns? How are shanty towns be...</td>\n",
       "      <td>0</td>\n",
       "      <td>WRB PRP MD VB IN NNS .</td>\n",
       "      <td>WP VBP JJ NNS WRB VBP VBN -NONE- VBG VBN .</td>\n",
       "    </tr>\n",
       "    <tr>\n",
       "      <th>8004</th>\n",
       "      <td>29658</td>\n",
       "      <td>54848</td>\n",
       "      <td>54849</td>\n",
       "      <td>What is cabinet of ministers?</td>\n",
       "      <td>What does a cabinet minister do?</td>\n",
       "      <td>1</td>\n",
       "      <td>WP VBZ NN IN NNS .</td>\n",
       "      <td>WP VBZ DT NN MD VB .</td>\n",
       "    </tr>\n",
       "  </tbody>\n",
       "</table>\n",
       "</div>"
      ],
      "text/plain": [
       "          id    qid1    qid2  \\\n",
       "8000  177687    1919  240809   \n",
       "8001  106511  175436  175437   \n",
       "8002  346033   11511   38523   \n",
       "8003  352045  480927  480928   \n",
       "8004   29658   54848   54849   \n",
       "\n",
       "                                              question1  \\\n",
       "8000          How could I gain weight in a healthy way?   \n",
       "8001  Which is a suitable inpatient drug and alcohol...   \n",
       "8002  What open source project did you start contrib...   \n",
       "8003                   Why don't boxers fight in cages?   \n",
       "8004                      What is cabinet of ministers?   \n",
       "\n",
       "                                              question2  is_duplicate  \\\n",
       "8000  What are the healthy ways of gaining weight an...             1   \n",
       "8001  Which is a suitable inpatient drug and alcohol...             0   \n",
       "8002   How can I contribute to open source development?             1   \n",
       "8003  What are shanty towns? How are shanty towns be...             0   \n",
       "8004                   What does a cabinet minister do?             1   \n",
       "\n",
       "                                       question1_pos  \\\n",
       "8000                  WRB MD PRP VB NN IN DT JJ NN .   \n",
       "8001  PRP VBZ DT JJ NN NN CC NN IN NN IN NNP NNP . .   \n",
       "8002                WP JJ NN NN VBD PRP VBP VBG IN .   \n",
       "8003                          WRB PRP MD VB IN NNS .   \n",
       "8004                              WP VBZ NN IN NNS .   \n",
       "\n",
       "                                       question2_pos  \n",
       "8000              WP VBP DT JJ NNS IN DT NN CC NNS .  \n",
       "8001  PRP VBZ DT JJ NN NN CC NN IN NN IN NNP NNP . .  \n",
       "8002                    WRB MD PRP VBP TO VB NN NN .  \n",
       "8003      WP VBP JJ NNS WRB VBP VBN -NONE- VBG VBN .  \n",
       "8004                            WP VBZ DT NN MD VB .  "
      ]
     },
     "execution_count": 14,
     "metadata": {},
     "output_type": "execute_result"
    }
   ],
   "source": [
    "y = pd.read_pickle(\"Data/train_lite8000.df.pkl.gz\")\n",
    "y.head()"
   ]
  }
 ],
 "metadata": {
  "kernelspec": {
   "display_name": "Python 3",
   "language": "python",
   "name": "python3"
  },
  "language_info": {
   "codemirror_mode": {
    "name": "ipython",
    "version": 3
   },
   "file_extension": ".py",
   "mimetype": "text/x-python",
   "name": "python",
   "nbconvert_exporter": "python",
   "pygments_lexer": "ipython3",
   "version": "3.5.3"
  }
 },
 "nbformat": 4,
 "nbformat_minor": 2
}
